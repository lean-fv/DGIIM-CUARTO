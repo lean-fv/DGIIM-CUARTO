{
  "nbformat": 4,
  "nbformat_minor": 0,
  "metadata": {
    "colab": {
      "provenance": []
    },
    "kernelspec": {
      "name": "python3",
      "display_name": "Python 3"
    },
    "language_info": {
      "name": "python"
    }
  },
  "cells": [
    {
      "cell_type": "markdown",
      "source": [
        "# BFS Algorithm\n",
        "Leandro Jorge Fernández Vega"
      ],
      "metadata": {
        "id": "plzbqZlUoYpK"
      }
    },
    {
      "cell_type": "code",
      "execution_count": null,
      "metadata": {
        "id": "5_G9xSyVl-Ih"
      },
      "outputs": [],
      "source": [
        "import networkx as nx\n",
        "import matplotlib.pyplot as plt\n",
        "from collections import deque"
      ]
    },
    {
      "cell_type": "markdown",
      "source": [
        "## Graph construction"
      ],
      "metadata": {
        "id": "nx3qaLm7ogyM"
      }
    },
    {
      "cell_type": "code",
      "source": [
        "# Create a graph\n",
        "G = nx.Graph()\n",
        "\n",
        "# Add nodes\n",
        "G.add_nodes_from(['A','B','C','D','E','F','G','H'])\n",
        "\n",
        "# Add edges (connections between nodes)\n",
        "G.add_edges_from([('A', 'B'), ('A', 'C'), ('B', 'D'), ('C', 'D'), ('C', 'E'), ('C', 'F'), ('B', 'G'),\n",
        "    ('D', 'F'), ('E', 'F'), ('F', 'G'), ('G', 'H')])"
      ],
      "metadata": {
        "id": "tYaDupb3nZR7"
      },
      "execution_count": null,
      "outputs": []
    },
    {
      "cell_type": "code",
      "source": [
        "# Use a more organized layout\n",
        "pos = nx.spring_layout(G, seed=42)  # Algorithm to evenly distribute nodes\n",
        "\n",
        "# Draw the graph with an improved style\n",
        "plt.figure(figsize=(6, 6))  # Adjust the figure size\n",
        "nx.draw(G, pos, with_labels=True, node_color='lightblue', edge_color='gray',\n",
        "        node_size=2000, font_size=12, font_weight=\"bold\", linewidths=2)\n",
        "\n",
        "# Show the graph\n",
        "plt.show()"
      ],
      "metadata": {
        "colab": {
          "base_uri": "https://localhost:8080/",
          "height": 636
        },
        "id": "3IoFHBUSnyDf",
        "outputId": "4925011c-af2d-4dcd-fc63-ffbb7688333d"
      },
      "execution_count": null,
      "outputs": [
        {
          "output_type": "display_data",
          "data": {
            "text/plain": [
              "<Figure size 600x600 with 1 Axes>"
            ],
            "image/png": "[encoded data removed]"
          },
          "metadata": {}
        }
      ]
    },
    {
      "cell_type": "markdown",
      "source": [
        "## Algorithm"
      ],
      "metadata": {
        "id": "kJ9qBIyoonIp"
      }
    },
    {
      "cell_type": "code",
      "source": [
        "def bfs_shortest_path(G, start, goal):\n",
        "        queue = deque([(start, [start])])\n",
        "        visited = set()\n",
        "\n",
        "        while queue:\n",
        "            current, path = queue.popleft()\n",
        "\n",
        "            if current == goal:\n",
        "                return path\n",
        "\n",
        "            if current not in visited:\n",
        "                visited.add(current)\n",
        "\n",
        "                for neighbor in G.neighbors(current):\n",
        "                    if neighbor not in visited:\n",
        "                        queue.append((neighbor, path + [neighbor]))\n",
        "\n",
        "        return None  # No path found"
      ],
      "metadata": {
        "id": "D_8daR42ordK"
      },
      "execution_count": null,
      "outputs": []
    },
    {
      "cell_type": "code",
      "source": [
        "# Start and goal\n",
        "start,goal='A','H'"
      ],
      "metadata": {
        "id": "ttf8XDUyqWQU"
      },
      "execution_count": null,
      "outputs": []
    },
    {
      "cell_type": "code",
      "source": [
        "# Find the shortest path from start to goal\n",
        "shortest_path = bfs_shortest_path(G, start, goal)\n",
        "print(\"Shortest path from\", start, \"to\", goal, \":\", shortest_path)"
      ],
      "metadata": {
        "colab": {
          "base_uri": "https://localhost:8080/"
        },
        "id": "nV-CntHPowDH",
        "outputId": "c9efd149-c802-4e05-a8f7-61bbb3267291"
      },
      "execution_count": null,
      "outputs": [
        {
          "output_type": "stream",
          "name": "stdout",
          "text": [
            "Shortest path from A to H : ['A', 'B', 'G', 'H']\n"
          ]
        }
      ]
    },
    {
      "cell_type": "code",
      "source": [
        "# It is also possible using libraries\n",
        "# BFS is used by default and not supported explicitely in shortest_path function\n",
        "shortest_path = nx.shortest_path(G, source=start, target=goal)\n",
        "print(\"Shortest path from\", start, \"to\", goal, \":\", shortest_path)"
      ],
      "metadata": {
        "colab": {
          "base_uri": "https://localhost:8080/"
        },
        "id": "Xnh-AWQ5qICS",
        "outputId": "40c4c1e1-4f6a-413b-9095-33d73a582a48"
      },
      "execution_count": null,
      "outputs": [
        {
          "output_type": "stream",
          "name": "stdout",
          "text": [
            "Shortest path from A to H : ['A', 'B', 'G', 'H']\n"
          ]
        }
      ]
    }
  ]
}