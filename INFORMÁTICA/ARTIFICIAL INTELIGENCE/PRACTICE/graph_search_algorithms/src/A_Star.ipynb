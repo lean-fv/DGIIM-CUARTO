{
  "cells": [
    {
      "cell_type": "markdown",
      "metadata": {},
      "source": [
        "# A Star Algorithm"
      ]
    },
    {
      "cell_type": "code",
      "execution_count": 1,
      "metadata": {
        "id": "ri62wlzZ9YD2"
      },
      "outputs": [],
      "source": [
        "import heapq\n",
        "from collections import deque"
      ]
    },
    {
      "cell_type": "code",
      "execution_count": 2,
      "metadata": {
        "id": "Z04yUsYz5KWv"
      },
      "outputs": [],
      "source": [
        "\"\"\"\n",
        "                S\n",
        "          A             D\n",
        "      B       D     E      A\n",
        "    C   E         B   F\n",
        "                      G\n",
        "\n",
        "\"\"\"\n",
        "\n",
        "Dic = {\n",
        "    0: 'S', 1: 'A', 2: 'B', 3: 'C', 4: 'D',\n",
        "    5: 'E', 6: 'F', 7: 'G'\n",
        "}\n",
        "\n",
        "Graph_cost =[\n",
        "    [0,3,0,0,4,0,0,0],\n",
        "    [3,0,4,0,5,0,0,0],\n",
        "    [0,4,0,4,0,5,0,0],\n",
        "    [0,0,4,0,0,0,0,0],\n",
        "    [4,5,0,0,0,2,0,0],\n",
        "    [0,0,5,0,2,0,4,0],\n",
        "    [0,0,0,0,0,4,0,3.5],\n",
        "    [0,0,0,0,0,0,3.5,0]\n",
        "\n",
        "]\n",
        "\n",
        "Graph_heuristic = {\n",
        "    'S' : 11.5,\n",
        "    'A' : 10.1,\n",
        "    'B' : 9.2,\n",
        "    'C' : 3.4,\n",
        "    'D' : 9.2,\n",
        "    'E' : 7.1,\n",
        "    'F' : 3.5,\n",
        "    'G' : 0\n",
        "}\n",
        "\n",
        "class Elemento:\n",
        "    def __init__(self, name, cost, priority):\n",
        "        self.name = name\n",
        "        self.cost = cost\n",
        "        self.priority = priority\n",
        "\n",
        "    def __lt__(self, other):\n",
        "        # Comparar por prioridad\n",
        "        return self.priority < other.priority\n",
        "\n",
        "    def __repr__(self):\n",
        "        return f\"{self.name}({self.priority})\""
      ]
    },
    {
      "cell_type": "code",
      "execution_count": 3,
      "metadata": {
        "id": "B2omwj_W8Xle"
      },
      "outputs": [],
      "source": [
        "def AStar(Graph_cost, Graph_heuristic, Dic, init_node, goal_node):\n",
        "    visited = set()  # Conjunto para registrar nodos visitados\n",
        "    heap = []  # Cola de prioridad para explorar nodos\n",
        "\n",
        "    # Añadir el nodo inicial a la cola: (costo total estimado, costo acumulado, nodo actual, camino hasta ahora)\n",
        "    heapq.heappush(heap, (Graph_heuristic[init_node], 0, init_node, [init_node]))\n",
        "\n",
        "    while len(heap) > 0:\n",
        "        # Extraer el nodo con el menor costo total estimado\n",
        "        f_cost, g_cost, current_node, path = heapq.heappop(heap)\n",
        "\n",
        "        # Si alcanzamos el nodo objetivo, devolvemos el camino y el costo\n",
        "        if current_node == goal_node:\n",
        "            return path, g_cost\n",
        "\n",
        "        # Marcar el nodo actual como visitado\n",
        "        if current_node in visited:\n",
        "            continue\n",
        "        visited.add(current_node)\n",
        "\n",
        "        # Obtener el índice del nodo actual para acceder a la matriz de costos\n",
        "        current_index = [key for key, value in Dic.items() if value == current_node][0]\n",
        "\n",
        "        # Explorar los vecinos del nodo actual\n",
        "        for neighbor_index, cost in enumerate(Graph_cost[current_index]):\n",
        "            if cost > 0:  # Hay un camino al vecino\n",
        "                neighbor_node = Dic[neighbor_index]\n",
        "\n",
        "                # Si el vecino ya fue visitado, lo ignoramos\n",
        "                if neighbor_node in visited:\n",
        "                    continue\n",
        "\n",
        "                # Calcular costos\n",
        "                new_g_cost = g_cost + cost  # Costo acumulado hasta el vecino\n",
        "                h_cost = Graph_heuristic[neighbor_node]  # Heurística del vecino\n",
        "                f_cost = new_g_cost + h_cost  # Costo total estimado\n",
        "\n",
        "                # Añadir el vecino a la cola\n",
        "                heapq.heappush(heap, (f_cost, new_g_cost, neighbor_node, path + [neighbor_node]))\n",
        "\n",
        "    # Si no se encuentra un camino\n",
        "    return None, float('inf')"
      ]
    },
    {
      "cell_type": "code",
      "execution_count": 4,
      "metadata": {
        "colab": {
          "base_uri": "https://localhost:8080/"
        },
        "id": "bWU0POzP_ovS",
        "outputId": "bc4876cc-cac6-44da-eb61-487eaf8ad4d9"
      },
      "outputs": [
        {
          "name": "stdout",
          "output_type": "stream",
          "text": [
            "Camino encontrado: ['S', 'D', 'E', 'F', 'G']\n",
            "Costo total: 13.5\n"
          ]
        }
      ],
      "source": [
        "init_node = 'S'\n",
        "goal_node = 'G'\n",
        "path, cost = AStar(Graph_cost, Graph_heuristic, Dic, init_node, goal_node)\n",
        "print(f\"Camino encontrado: {path}\")\n",
        "print(f\"Costo total: {cost}\")\n",
        "\n"
      ]
    },
    {
      "cell_type": "markdown",
      "metadata": {
        "id": "vrtqztI0QNns"
      },
      "source": [
        "Now we are going to solve the 8-puzzle."
      ]
    },
    {
      "cell_type": "code",
      "execution_count": 5,
      "metadata": {
        "colab": {
          "base_uri": "https://localhost:8080/"
        },
        "id": "5YFoK0ClPXw8",
        "outputId": "00de64ef-1f7e-4b39-9f91-b55a125ee94c"
      },
      "outputs": [
        {
          "name": "stdout",
          "output_type": "stream",
          "text": [
            "Camino encontrado: [(1, 2, 3, 8, 0, 4, 7, 6, 5), (1, 0, 3, 8, 2, 4, 7, 6, 5), (0, 1, 3, 8, 2, 4, 7, 6, 5), (8, 1, 3, 0, 2, 4, 7, 6, 5), (8, 1, 3, 2, 0, 4, 7, 6, 5), (8, 1, 3, 2, 4, 0, 7, 6, 5), (8, 1, 0, 2, 4, 3, 7, 6, 5), (8, 0, 1, 2, 4, 3, 7, 6, 5), (0, 8, 1, 2, 4, 3, 7, 6, 5), (2, 8, 1, 0, 4, 3, 7, 6, 5)]\n",
            "Costo total: 9\n"
          ]
        }
      ],
      "source": [
        "def manhattan_distance(state, goal):\n",
        "    distance = 0\n",
        "    for i, value in enumerate(state):\n",
        "        if value == 0:\n",
        "            continue\n",
        "        goal_index = goal.index(value)\n",
        "        distance += abs(i // 3 - goal_index // 3) + abs(i % 3 - goal_index % 3)\n",
        "    return distance\n",
        "\n",
        "def get_neighbors(state):\n",
        "    neighbors = []\n",
        "    zero_index = state.index(0)\n",
        "    row, col = divmod(zero_index, 3)\n",
        "\n",
        "    moves = [(-1, 0), (1, 0), (0, -1), (0, 1)]  # arriba, abajo, izquierda, derecha\n",
        "\n",
        "    for dr, dc in moves:\n",
        "        new_row, new_col = row + dr, col + dc\n",
        "        if 0 <= new_row < 3 and 0 <= new_col < 3:\n",
        "            new_zero_index = new_row * 3 + new_col\n",
        "            new_state = list(state)\n",
        "            new_state[zero_index], new_state[new_zero_index] = new_state[new_zero_index], new_state[zero_index]\n",
        "            neighbors.append(tuple(new_state))\n",
        "    return neighbors\n",
        "\n",
        "def reconstruct_path(came_from, current_state):\n",
        "    path = []\n",
        "    while current_state is not None:\n",
        "        path.append(current_state)\n",
        "        current_state = came_from.get(current_state)\n",
        "    return path[::-1]  # Invertir el camino para que vaya de inicio a objetivo\n",
        "\n",
        "def AStar_8Puzzle(start, goal):\n",
        "    visited = set()  # Conjunto de estados visitados\n",
        "    heap = []  # Cola de prioridad\n",
        "    came_from = {}  # Diccionario para rastrear padres\n",
        "\n",
        "    heapq.heappush(heap, (manhattan_distance(start, goal), 0, start, None))\n",
        "\n",
        "    while heap:\n",
        "        f_cost, g_cost, current_state, parent = heapq.heappop(heap)\n",
        "\n",
        "        if current_state in visited:\n",
        "            continue\n",
        "        visited.add(current_state)\n",
        "\n",
        "        # Registrar el padre del nodo actual\n",
        "        came_from[current_state] = parent\n",
        "\n",
        "        if current_state == goal:\n",
        "            return reconstruct_path(came_from, current_state), g_cost\n",
        "\n",
        "        for neighbor in get_neighbors(current_state):\n",
        "            if neighbor not in visited:\n",
        "                new_g_cost = g_cost + 1\n",
        "                new_f_cost = new_g_cost + manhattan_distance(neighbor, goal)\n",
        "                heapq.heappush(heap, (new_f_cost, new_g_cost, neighbor, current_state))\n",
        "\n",
        "    return None, float('inf')\n",
        "\n",
        "# Ejemplo de uso\n",
        "start = (1, 2, 3, 8, 0, 4, 7, 6, 5)  # Estado inicial\n",
        "goal = (2, 8, 1, 0, 4, 3, 7, 6, 5)   # Estado objetivo\n",
        "\n",
        "path, cost = AStar_8Puzzle(start, goal)\n",
        "print(f\"Camino encontrado: {path}\")\n",
        "print(f\"Costo total: {cost}\")"
      ]
    },
    {
      "cell_type": "code",
      "execution_count": 6,
      "metadata": {
        "colab": {
          "base_uri": "https://localhost:8080/",
          "height": 406
        },
        "id": "MApAexssSMK9",
        "outputId": "7dcb900b-5b4a-41a0-8427-2cb63cccefa1"
      },
      "outputs": [
        {
          "data": {
            "image/png": "[encoded data removed]",
            "text/plain": [
              "<Figure size 640x480 with 1 Axes>"
            ]
          },
          "metadata": {},
          "output_type": "display_data"
        }
      ],
      "source": [
        "import matplotlib.pyplot as plt\n",
        "from matplotlib.animation import FuncAnimation\n",
        "import numpy as np\n",
        "\n",
        "def animate_8_puzzle(states, interval=500):\n",
        "    \"\"\"\n",
        "    Genera una animación para visualizar el progreso del juego del 8.\n",
        "\n",
        "    Args:\n",
        "        states (list of tuple): Lista de estados por los que pasa el juego.\n",
        "        interval (int): Tiempo entre fotogramas en milisegundos.\n",
        "    \"\"\"\n",
        "    # Configurar la figura y los ejes\n",
        "    fig, ax = plt.subplots()\n",
        "    ax.axis('off')  # Ocultar los ejes\n",
        "\n",
        "    # Dibujar líneas de la cuadrícula\n",
        "    for x in range(4):\n",
        "        ax.axhline(x - 0.5, color='black', linewidth=1)\n",
        "        ax.axvline(x - 0.5, color='black', linewidth=1)\n",
        "\n",
        "    # Crear textos iniciales en la cuadrícula\n",
        "    texts = []\n",
        "    for i in range(3):\n",
        "        for j in range(3):\n",
        "            text = ax.text(j, 2 - i, '', ha='center', va='center', fontsize=18, color='black')\n",
        "            texts.append(text)\n",
        "\n",
        "    # Configurar los límites del gráfico\n",
        "    ax.set_xlim(-0.5, 2.5)\n",
        "    ax.set_ylim(-0.5, 2.5)\n",
        "    ax.set_aspect('equal')\n",
        "\n",
        "    def update(frame):\n",
        "        \"\"\"Actualizar los valores en la cuadrícula.\"\"\"\n",
        "        grid = np.array(states[frame]).reshape(3, 3)\n",
        "        for idx, text in enumerate(texts):\n",
        "            value = grid[idx // 3, idx % 3]\n",
        "            text.set_text('' if value == 0 else str(value))\n",
        "        return texts\n",
        "\n",
        "    # Crear la animación\n",
        "\n",
        "    anim = FuncAnimation(fig, update, frames=len(states), interval=interval)\n",
        "    return anim\n",
        "\n",
        "\n",
        "# Ejemplo de uso\n",
        "start = (1, 2, 3, 8, 0, 4, 7, 6, 5)  # Estado inicial\n",
        "goal = (2, 8, 1, 0, 4, 3, 7, 6, 5)   # Estado objetivo\n",
        "\n",
        "start = (2,3,1,6,7,4,5,8,0)\n",
        "goal = (1,2,3,4,5,6,7,8,0)\n",
        "\n",
        "path, cost = AStar_8Puzzle(start, goal)\n",
        "\n",
        "anim = animate_8_puzzle(path)\n",
        "anim.save('8_puzzle_animation.gif', writer='pillow')\n",
        "\n",
        "\n"
      ]
    },
    {
      "cell_type": "markdown",
      "metadata": {},
      "source": [
        "# Exam"
      ]
    },
    {
      "cell_type": "code",
      "execution_count": null,
      "metadata": {},
      "outputs": [],
      "source": [
        "import heapq\n",
        "\n",
        "# Graph\n",
        "graph = {\n",
        "    'CityA': [('CityB', 5), ('CityD', 3)],\n",
        "    'CityB': [('CityC', 7), ('CityE', 6)],\n",
        "    'CityC': [('CityF', 4)],\n",
        "    'CityD': [('CityE', 8)],\n",
        "    'CityE': [('CityF', 2)],\n",
        "    'CityF': []\n",
        "}\n",
        "\n",
        "\"\"\"\n",
        "    A* Algorithm\n",
        "    :param start: Initial node.\n",
        "    :param goal: Goal node.\n",
        "    :param heuristic_fn: Heuristic function that estimates the cost from a node to the goal.\n",
        "    :return: Tuple with the path and the total cost.\n",
        "\"\"\"\n",
        "def a_star_search(start, goal, heuristic_fn):\n",
        "    \n",
        "    # The priority queue stores elements as (f, g, current_node, path)\n",
        "    queue = [(0 + heuristic_fn(start), 0, start, [])]\n",
        "    visited = set()\n",
        "\n",
        "    while queue:\n",
        "        f, g, node, path = heapq.heappop(queue)\n",
        "\n",
        "        if node in visited:\n",
        "            continue\n",
        "\n",
        "        visited.add(node)\n",
        "        path = path + [node]\n",
        "\n",
        "        if node == goal:\n",
        "            return path, g\n",
        "\n",
        "        for neighbor, cost in graph[node]:\n",
        "            if neighbor not in visited:\n",
        "                heapq.heappush(queue, (g + cost + heuristic_fn(neighbor), g + cost, neighbor, path))\n",
        "\n",
        "    return None, float('inf')  # No path found\n",
        "\n",
        "# Heuristic function\n",
        "def heuristic(city):\n",
        "    \"\"\"\n",
        "    Ejemplo de función heurística. Retorna valores estimados desde cada ciudad al objetivo.\n",
        "    \"\"\"\n",
        "    heuristic_values = {\n",
        "        'CityA': 10,\n",
        "        'CityB': 8,\n",
        "        'CityC': 4,\n",
        "        'CityD': 7,\n",
        "        'CityE': 2,\n",
        "        'CityF': 0\n",
        "    }\n",
        "    return heuristic_values.get(city, float('inf'))\n",
        "\n",
        "# Ejecutar búsqueda A*\n",
        "if __name__ == \"__main__\":\n",
        "    start = 'CityA'\n",
        "    goal = 'CityF'\n",
        "    path, cost = a_star_search(start, goal, heuristic)\n",
        "    if path:\n",
        "        print(\"Camino encontrado:\", path, \"Costo:\", cost)\n",
        "    else:\n",
        "        print(\"No se encontró un camino\")\n"
      ]
    }
  ],
  "metadata": {
    "colab": {
      "provenance": []
    },
    "kernelspec": {
      "display_name": ".venv",
      "language": "python",
      "name": "python3"
    },
    "language_info": {
      "codemirror_mode": {
        "name": "ipython",
        "version": 3
      },
      "file_extension": ".py",
      "mimetype": "text/x-python",
      "name": "python",
      "nbconvert_exporter": "python",
      "pygments_lexer": "ipython3",
      "version": "3.10.2"
    }
  },
  "nbformat": 4,
  "nbformat_minor": 0
}
