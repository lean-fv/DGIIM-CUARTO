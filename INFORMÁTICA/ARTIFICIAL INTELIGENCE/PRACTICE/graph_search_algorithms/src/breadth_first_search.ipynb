{
 "cells": [
  {
   "cell_type": "markdown",
   "metadata": {},
   "source": [
    "# Breadth First Search"
   ]
  },
  {
   "cell_type": "code",
   "execution_count": 1,
   "metadata": {},
   "outputs": [
    {
     "name": "stdout",
     "output_type": "stream",
     "text": [
      "Shortest path from A to H: ['A', 'B', 'G', 'H']\n"
     ]
    }
   ],
   "source": [
    "from collections import deque\n",
    "\n",
    "class Graph:\n",
    "    def __init__(self):\n",
    "        self.graph = {}\n",
    "\n",
    "    def add_edge(self, node1, node2):\n",
    "        if node1 not in self.graph:\n",
    "            self.graph[node1] = []\n",
    "        if node2 not in self.graph:\n",
    "            self.graph[node2] = []\n",
    "        self.graph[node1].append(node2)\n",
    "        self.graph[node2].append(node1)\n",
    "\n",
    "    def bfs_shortest_path(self, start, goal):\n",
    "        queue = deque([(start, [start])])\n",
    "        visited = set()\n",
    "        \n",
    "        while queue:\n",
    "            current, path = queue.popleft()\n",
    "            \n",
    "            if current == goal:\n",
    "                return path\n",
    "            \n",
    "            if current not in visited:\n",
    "                visited.add(current)\n",
    "                \n",
    "                for neighbor in self.graph.get(current, []):\n",
    "                    if neighbor not in visited:\n",
    "                        queue.append((neighbor, path + [neighbor]))\n",
    "        \n",
    "        return None  # No path found\n",
    "\n",
    "# Example graph with 9 points\n",
    "edges = [\n",
    "    ('A', 'B'), ('A', 'C'), ('B', 'D'), ('C', 'D'), ('C', 'E'), ('C', 'F'), ('B', 'G'),\n",
    "    ('D', 'F'), ('E', 'F'), ('F', 'G'), ('G', 'H')\n",
    "]\n",
    "\n",
    "graph = Graph()\n",
    "for edge in edges:\n",
    "    graph.add_edge(*edge)\n",
    "\n",
    "# Find the shortest path from A to H\n",
    "shortest_path = graph.bfs_shortest_path('A', 'H')\n",
    "print(\"Shortest path from A to H:\", shortest_path)\n"
   ]
  }
 ],
 "metadata": {
  "kernelspec": {
   "display_name": ".venv",
   "language": "python",
   "name": "python3"
  },
  "language_info": {
   "codemirror_mode": {
    "name": "ipython",
    "version": 3
   },
   "file_extension": ".py",
   "mimetype": "text/x-python",
   "name": "python",
   "nbconvert_exporter": "python",
   "pygments_lexer": "ipython3",
   "version": "3.10.2"
  }
 },
 "nbformat": 4,
 "nbformat_minor": 2
}
