{
 "cells": [
  {
   "cell_type": "markdown",
   "metadata": {
    "id": "4aHOurXQkrv5"
   },
   "source": [
    "# KNN\n",
    " The KNN algorithm can be summarized by the following steps:\n",
    " 1. Choose the number of k and a distance metric\n",
    " 2. Find the k-nearest neighbors of the data record that we want to classify\n",
    " 3. Assign the class label by majority vote"
   ]
  },
  {
   "cell_type": "markdown",
   "metadata": {
    "id": "WD--fL4PlCre"
   },
   "source": [
    "![knn1.jpg](data:image/jpeg;base64,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)"
   ]
  },
  {
   "cell_type": "code",
   "execution_count": 1,
   "metadata": {
    "id": "mnPqLcmNNyWk"
   },
   "outputs": [],
   "source": [
    "import numpy as np\n",
    "import pandas as pd\n",
    "import matplotlib.pyplot as plt\n",
    "import seaborn as sns"
   ]
  },
  {
   "cell_type": "markdown",
   "metadata": {
    "id": "udeaGuMQPmIt"
   },
   "source": [
    "## Data Description"
   ]
  },
  {
   "cell_type": "markdown",
   "metadata": {
    "id": "k4-3qyylSJrF"
   },
   "source": [
    "Read data from the data set **wisc_bc_data.csv**"
   ]
  },
  {
   "cell_type": "markdown",
   "metadata": {
    "id": "JrY-5LlARgWO"
   },
   "source": [
    "[Data description](https://archive.ics.uci.edu/dataset/17/breast+cancer+wisconsin+diagnostic)"
   ]
  },
  {
   "cell_type": "markdown",
   "metadata": {
    "id": "mB8SwW4RS1Xt"
   },
   "source": [
    "* view the set\n",
    "* give the distributions of the variables\n",
    "* check for missing data"
   ]
  },
  {
   "cell_type": "code",
   "execution_count": 2,
   "metadata": {
    "id": "CeNucSYGNyWl",
    "scrolled": true
   },
   "outputs": [
    {
     "data": {
      "text/html": [
       "<div>\n",
       "<style scoped>\n",
       "    .dataframe tbody tr th:only-of-type {\n",
       "        vertical-align: middle;\n",
       "    }\n",
       "\n",
       "    .dataframe tbody tr th {\n",
       "        vertical-align: top;\n",
       "    }\n",
       "\n",
       "    .dataframe thead th {\n",
       "        text-align: right;\n",
       "    }\n",
       "</style>\n",
       "<table border=\"1\" class=\"dataframe\">\n",
       "  <thead>\n",
       "    <tr style=\"text-align: right;\">\n",
       "      <th></th>\n",
       "      <th>id</th>\n",
       "      <th>diagnosis</th>\n",
       "      <th>radius_mean</th>\n",
       "      <th>texture_mean</th>\n",
       "      <th>perimeter_mean</th>\n",
       "      <th>area_mean</th>\n",
       "      <th>smoothness_mean</th>\n",
       "      <th>compactness_mean</th>\n",
       "      <th>concavity_mean</th>\n",
       "      <th>concave points_mean</th>\n",
       "      <th>...</th>\n",
       "      <th>radius_worst</th>\n",
       "      <th>texture_worst</th>\n",
       "      <th>perimeter_worst</th>\n",
       "      <th>area_worst</th>\n",
       "      <th>smoothness_worst</th>\n",
       "      <th>compactness_worst</th>\n",
       "      <th>concavity_worst</th>\n",
       "      <th>concave points_worst</th>\n",
       "      <th>symmetry_worst</th>\n",
       "      <th>fractal_dimension_worst</th>\n",
       "    </tr>\n",
       "  </thead>\n",
       "  <tbody>\n",
       "    <tr>\n",
       "      <th>0</th>\n",
       "      <td>842302</td>\n",
       "      <td>M</td>\n",
       "      <td>17.99</td>\n",
       "      <td>10.38</td>\n",
       "      <td>122.80</td>\n",
       "      <td>1001.0</td>\n",
       "      <td>0.11840</td>\n",
       "      <td>0.27760</td>\n",
       "      <td>0.30010</td>\n",
       "      <td>0.14710</td>\n",
       "      <td>...</td>\n",
       "      <td>25.380</td>\n",
       "      <td>17.33</td>\n",
       "      <td>184.60</td>\n",
       "      <td>2019.0</td>\n",
       "      <td>0.16220</td>\n",
       "      <td>0.66560</td>\n",
       "      <td>0.7119</td>\n",
       "      <td>0.2654</td>\n",
       "      <td>0.4601</td>\n",
       "      <td>0.11890</td>\n",
       "    </tr>\n",
       "    <tr>\n",
       "      <th>1</th>\n",
       "      <td>842517</td>\n",
       "      <td>M</td>\n",
       "      <td>20.57</td>\n",
       "      <td>17.77</td>\n",
       "      <td>132.90</td>\n",
       "      <td>1326.0</td>\n",
       "      <td>0.08474</td>\n",
       "      <td>0.07864</td>\n",
       "      <td>0.08690</td>\n",
       "      <td>0.07017</td>\n",
       "      <td>...</td>\n",
       "      <td>24.990</td>\n",
       "      <td>23.41</td>\n",
       "      <td>158.80</td>\n",
       "      <td>1956.0</td>\n",
       "      <td>0.12380</td>\n",
       "      <td>0.18660</td>\n",
       "      <td>0.2416</td>\n",
       "      <td>0.1860</td>\n",
       "      <td>0.2750</td>\n",
       "      <td>0.08902</td>\n",
       "    </tr>\n",
       "    <tr>\n",
       "      <th>2</th>\n",
       "      <td>84300903</td>\n",
       "      <td>M</td>\n",
       "      <td>19.69</td>\n",
       "      <td>21.25</td>\n",
       "      <td>130.00</td>\n",
       "      <td>1203.0</td>\n",
       "      <td>0.10960</td>\n",
       "      <td>0.15990</td>\n",
       "      <td>0.19740</td>\n",
       "      <td>0.12790</td>\n",
       "      <td>...</td>\n",
       "      <td>23.570</td>\n",
       "      <td>25.53</td>\n",
       "      <td>152.50</td>\n",
       "      <td>1709.0</td>\n",
       "      <td>0.14440</td>\n",
       "      <td>0.42450</td>\n",
       "      <td>0.4504</td>\n",
       "      <td>0.2430</td>\n",
       "      <td>0.3613</td>\n",
       "      <td>0.08758</td>\n",
       "    </tr>\n",
       "    <tr>\n",
       "      <th>3</th>\n",
       "      <td>84348301</td>\n",
       "      <td>M</td>\n",
       "      <td>11.42</td>\n",
       "      <td>20.38</td>\n",
       "      <td>77.58</td>\n",
       "      <td>386.1</td>\n",
       "      <td>0.14250</td>\n",
       "      <td>0.28390</td>\n",
       "      <td>0.24140</td>\n",
       "      <td>0.10520</td>\n",
       "      <td>...</td>\n",
       "      <td>14.910</td>\n",
       "      <td>26.50</td>\n",
       "      <td>98.87</td>\n",
       "      <td>567.7</td>\n",
       "      <td>0.20980</td>\n",
       "      <td>0.86630</td>\n",
       "      <td>0.6869</td>\n",
       "      <td>0.2575</td>\n",
       "      <td>0.6638</td>\n",
       "      <td>0.17300</td>\n",
       "    </tr>\n",
       "    <tr>\n",
       "      <th>4</th>\n",
       "      <td>84358402</td>\n",
       "      <td>M</td>\n",
       "      <td>20.29</td>\n",
       "      <td>14.34</td>\n",
       "      <td>135.10</td>\n",
       "      <td>1297.0</td>\n",
       "      <td>0.10030</td>\n",
       "      <td>0.13280</td>\n",
       "      <td>0.19800</td>\n",
       "      <td>0.10430</td>\n",
       "      <td>...</td>\n",
       "      <td>22.540</td>\n",
       "      <td>16.67</td>\n",
       "      <td>152.20</td>\n",
       "      <td>1575.0</td>\n",
       "      <td>0.13740</td>\n",
       "      <td>0.20500</td>\n",
       "      <td>0.4000</td>\n",
       "      <td>0.1625</td>\n",
       "      <td>0.2364</td>\n",
       "      <td>0.07678</td>\n",
       "    </tr>\n",
       "    <tr>\n",
       "      <th>...</th>\n",
       "      <td>...</td>\n",
       "      <td>...</td>\n",
       "      <td>...</td>\n",
       "      <td>...</td>\n",
       "      <td>...</td>\n",
       "      <td>...</td>\n",
       "      <td>...</td>\n",
       "      <td>...</td>\n",
       "      <td>...</td>\n",
       "      <td>...</td>\n",
       "      <td>...</td>\n",
       "      <td>...</td>\n",
       "      <td>...</td>\n",
       "      <td>...</td>\n",
       "      <td>...</td>\n",
       "      <td>...</td>\n",
       "      <td>...</td>\n",
       "      <td>...</td>\n",
       "      <td>...</td>\n",
       "      <td>...</td>\n",
       "      <td>...</td>\n",
       "    </tr>\n",
       "    <tr>\n",
       "      <th>564</th>\n",
       "      <td>926424</td>\n",
       "      <td>M</td>\n",
       "      <td>21.56</td>\n",
       "      <td>22.39</td>\n",
       "      <td>142.00</td>\n",
       "      <td>1479.0</td>\n",
       "      <td>0.11100</td>\n",
       "      <td>0.11590</td>\n",
       "      <td>0.24390</td>\n",
       "      <td>0.13890</td>\n",
       "      <td>...</td>\n",
       "      <td>25.450</td>\n",
       "      <td>26.40</td>\n",
       "      <td>166.10</td>\n",
       "      <td>2027.0</td>\n",
       "      <td>0.14100</td>\n",
       "      <td>0.21130</td>\n",
       "      <td>0.4107</td>\n",
       "      <td>0.2216</td>\n",
       "      <td>0.2060</td>\n",
       "      <td>0.07115</td>\n",
       "    </tr>\n",
       "    <tr>\n",
       "      <th>565</th>\n",
       "      <td>926682</td>\n",
       "      <td>M</td>\n",
       "      <td>20.13</td>\n",
       "      <td>28.25</td>\n",
       "      <td>131.20</td>\n",
       "      <td>1261.0</td>\n",
       "      <td>0.09780</td>\n",
       "      <td>0.10340</td>\n",
       "      <td>0.14400</td>\n",
       "      <td>0.09791</td>\n",
       "      <td>...</td>\n",
       "      <td>23.690</td>\n",
       "      <td>38.25</td>\n",
       "      <td>155.00</td>\n",
       "      <td>1731.0</td>\n",
       "      <td>0.11660</td>\n",
       "      <td>0.19220</td>\n",
       "      <td>0.3215</td>\n",
       "      <td>0.1628</td>\n",
       "      <td>0.2572</td>\n",
       "      <td>0.06637</td>\n",
       "    </tr>\n",
       "    <tr>\n",
       "      <th>566</th>\n",
       "      <td>926954</td>\n",
       "      <td>M</td>\n",
       "      <td>16.60</td>\n",
       "      <td>28.08</td>\n",
       "      <td>108.30</td>\n",
       "      <td>858.1</td>\n",
       "      <td>0.08455</td>\n",
       "      <td>0.10230</td>\n",
       "      <td>0.09251</td>\n",
       "      <td>0.05302</td>\n",
       "      <td>...</td>\n",
       "      <td>18.980</td>\n",
       "      <td>34.12</td>\n",
       "      <td>126.70</td>\n",
       "      <td>1124.0</td>\n",
       "      <td>0.11390</td>\n",
       "      <td>0.30940</td>\n",
       "      <td>0.3403</td>\n",
       "      <td>0.1418</td>\n",
       "      <td>0.2218</td>\n",
       "      <td>0.07820</td>\n",
       "    </tr>\n",
       "    <tr>\n",
       "      <th>567</th>\n",
       "      <td>927241</td>\n",
       "      <td>M</td>\n",
       "      <td>20.60</td>\n",
       "      <td>29.33</td>\n",
       "      <td>140.10</td>\n",
       "      <td>1265.0</td>\n",
       "      <td>0.11780</td>\n",
       "      <td>0.27700</td>\n",
       "      <td>0.35140</td>\n",
       "      <td>0.15200</td>\n",
       "      <td>...</td>\n",
       "      <td>25.740</td>\n",
       "      <td>39.42</td>\n",
       "      <td>184.60</td>\n",
       "      <td>1821.0</td>\n",
       "      <td>0.16500</td>\n",
       "      <td>0.86810</td>\n",
       "      <td>0.9387</td>\n",
       "      <td>0.2650</td>\n",
       "      <td>0.4087</td>\n",
       "      <td>0.12400</td>\n",
       "    </tr>\n",
       "    <tr>\n",
       "      <th>568</th>\n",
       "      <td>92751</td>\n",
       "      <td>B</td>\n",
       "      <td>7.76</td>\n",
       "      <td>24.54</td>\n",
       "      <td>47.92</td>\n",
       "      <td>181.0</td>\n",
       "      <td>0.05263</td>\n",
       "      <td>0.04362</td>\n",
       "      <td>0.00000</td>\n",
       "      <td>0.00000</td>\n",
       "      <td>...</td>\n",
       "      <td>9.456</td>\n",
       "      <td>30.37</td>\n",
       "      <td>59.16</td>\n",
       "      <td>268.6</td>\n",
       "      <td>0.08996</td>\n",
       "      <td>0.06444</td>\n",
       "      <td>0.0000</td>\n",
       "      <td>0.0000</td>\n",
       "      <td>0.2871</td>\n",
       "      <td>0.07039</td>\n",
       "    </tr>\n",
       "  </tbody>\n",
       "</table>\n",
       "<p>569 rows × 32 columns</p>\n",
       "</div>"
      ],
      "text/plain": [
       "           id diagnosis  radius_mean  texture_mean  perimeter_mean  area_mean  \\\n",
       "0      842302         M        17.99         10.38          122.80     1001.0   \n",
       "1      842517         M        20.57         17.77          132.90     1326.0   \n",
       "2    84300903         M        19.69         21.25          130.00     1203.0   \n",
       "3    84348301         M        11.42         20.38           77.58      386.1   \n",
       "4    84358402         M        20.29         14.34          135.10     1297.0   \n",
       "..        ...       ...          ...           ...             ...        ...   \n",
       "564    926424         M        21.56         22.39          142.00     1479.0   \n",
       "565    926682         M        20.13         28.25          131.20     1261.0   \n",
       "566    926954         M        16.60         28.08          108.30      858.1   \n",
       "567    927241         M        20.60         29.33          140.10     1265.0   \n",
       "568     92751         B         7.76         24.54           47.92      181.0   \n",
       "\n",
       "     smoothness_mean  compactness_mean  concavity_mean  concave points_mean  \\\n",
       "0            0.11840           0.27760         0.30010              0.14710   \n",
       "1            0.08474           0.07864         0.08690              0.07017   \n",
       "2            0.10960           0.15990         0.19740              0.12790   \n",
       "3            0.14250           0.28390         0.24140              0.10520   \n",
       "4            0.10030           0.13280         0.19800              0.10430   \n",
       "..               ...               ...             ...                  ...   \n",
       "564          0.11100           0.11590         0.24390              0.13890   \n",
       "565          0.09780           0.10340         0.14400              0.09791   \n",
       "566          0.08455           0.10230         0.09251              0.05302   \n",
       "567          0.11780           0.27700         0.35140              0.15200   \n",
       "568          0.05263           0.04362         0.00000              0.00000   \n",
       "\n",
       "     ...  radius_worst  texture_worst  perimeter_worst  area_worst  \\\n",
       "0    ...        25.380          17.33           184.60      2019.0   \n",
       "1    ...        24.990          23.41           158.80      1956.0   \n",
       "2    ...        23.570          25.53           152.50      1709.0   \n",
       "3    ...        14.910          26.50            98.87       567.7   \n",
       "4    ...        22.540          16.67           152.20      1575.0   \n",
       "..   ...           ...            ...              ...         ...   \n",
       "564  ...        25.450          26.40           166.10      2027.0   \n",
       "565  ...        23.690          38.25           155.00      1731.0   \n",
       "566  ...        18.980          34.12           126.70      1124.0   \n",
       "567  ...        25.740          39.42           184.60      1821.0   \n",
       "568  ...         9.456          30.37            59.16       268.6   \n",
       "\n",
       "     smoothness_worst  compactness_worst  concavity_worst  \\\n",
       "0             0.16220            0.66560           0.7119   \n",
       "1             0.12380            0.18660           0.2416   \n",
       "2             0.14440            0.42450           0.4504   \n",
       "3             0.20980            0.86630           0.6869   \n",
       "4             0.13740            0.20500           0.4000   \n",
       "..                ...                ...              ...   \n",
       "564           0.14100            0.21130           0.4107   \n",
       "565           0.11660            0.19220           0.3215   \n",
       "566           0.11390            0.30940           0.3403   \n",
       "567           0.16500            0.86810           0.9387   \n",
       "568           0.08996            0.06444           0.0000   \n",
       "\n",
       "     concave points_worst  symmetry_worst  fractal_dimension_worst  \n",
       "0                  0.2654          0.4601                  0.11890  \n",
       "1                  0.1860          0.2750                  0.08902  \n",
       "2                  0.2430          0.3613                  0.08758  \n",
       "3                  0.2575          0.6638                  0.17300  \n",
       "4                  0.1625          0.2364                  0.07678  \n",
       "..                    ...             ...                      ...  \n",
       "564                0.2216          0.2060                  0.07115  \n",
       "565                0.1628          0.2572                  0.06637  \n",
       "566                0.1418          0.2218                  0.07820  \n",
       "567                0.2650          0.4087                  0.12400  \n",
       "568                0.0000          0.2871                  0.07039  \n",
       "\n",
       "[569 rows x 32 columns]"
      ]
     },
     "execution_count": 2,
     "metadata": {},
     "output_type": "execute_result"
    }
   ],
   "source": [
    "wbcd = pd.read_csv('../content/wisc_bc_data.csv')\n",
    "wbcd"
   ]
  },
  {
   "cell_type": "code",
   "execution_count": 3,
   "metadata": {},
   "outputs": [
    {
     "data": {
      "text/plain": [
       "id                         0\n",
       "diagnosis                  0\n",
       "radius_mean                0\n",
       "texture_mean               0\n",
       "perimeter_mean             0\n",
       "area_mean                  0\n",
       "smoothness_mean            0\n",
       "compactness_mean           0\n",
       "concavity_mean             0\n",
       "concave points_mean        0\n",
       "symmetry_mean              0\n",
       "fractal_dimension_mean     0\n",
       "radius_se                  0\n",
       "texture_se                 0\n",
       "perimeter_se               0\n",
       "area_se                    0\n",
       "smoothness_se              0\n",
       "compactness_se             0\n",
       "concavity_se               0\n",
       "concave points_se          0\n",
       "symmetry_se                0\n",
       "fractal_dimension_se       0\n",
       "radius_worst               0\n",
       "texture_worst              0\n",
       "perimeter_worst            0\n",
       "area_worst                 0\n",
       "smoothness_worst           0\n",
       "compactness_worst          0\n",
       "concavity_worst            0\n",
       "concave points_worst       0\n",
       "symmetry_worst             0\n",
       "fractal_dimension_worst    0\n",
       "dtype: int64"
      ]
     },
     "execution_count": 3,
     "metadata": {},
     "output_type": "execute_result"
    }
   ],
   "source": [
    "# Check for missing values\n",
    "wbcd.isna().sum() # analog to .isnull()"
   ]
  },
  {
   "cell_type": "markdown",
   "metadata": {
    "id": "8T900EbmUhX2"
   },
   "source": [
    "## Target variable"
   ]
  },
  {
   "cell_type": "code",
   "execution_count": 4,
   "metadata": {},
   "outputs": [
    {
     "data": {
      "text/plain": [
       "count     569\n",
       "unique      2\n",
       "top         B\n",
       "freq      357\n",
       "Name: diagnosis, dtype: object"
      ]
     },
     "execution_count": 4,
     "metadata": {},
     "output_type": "execute_result"
    }
   ],
   "source": [
    "wbcd.diagnosis.describe()"
   ]
  },
  {
   "cell_type": "code",
   "execution_count": 5,
   "metadata": {},
   "outputs": [
    {
     "data": {
      "text/plain": [
       "diagnosis\n",
       "B    0.627417\n",
       "M    0.372583\n",
       "Name: proportion, dtype: float64"
      ]
     },
     "execution_count": 5,
     "metadata": {},
     "output_type": "execute_result"
    }
   ],
   "source": [
    "wbcd.diagnosis.value_counts(normalize=True)"
   ]
  },
  {
   "cell_type": "code",
   "execution_count": 6,
   "metadata": {
    "colab": {
     "base_uri": "https://localhost:8080/",
     "height": 466
    },
    "id": "tlCANd7IUqBs",
    "outputId": "25dc97cf-585f-4238-a3b3-c5e87ed38ee3"
   },
   "outputs": [
    {
     "data": {
      "text/plain": [
       "<Axes: xlabel='diagnosis', ylabel='count'>"
      ]
     },
     "execution_count": 6,
     "metadata": {},
     "output_type": "execute_result"
    },
    {
     "data": {
      "image/png": "[encoded data removed]",
      "text/plain": [
       "<Figure size 640x480 with 1 Axes>"
      ]
     },
     "metadata": {},
     "output_type": "display_data"
    }
   ],
   "source": [
    "sns.countplot(x= \"diagnosis\",data= wbcd, hue=\"diagnosis\")"
   ]
  },
  {
   "cell_type": "code",
   "execution_count": 7,
   "metadata": {
    "id": "uY0lusZVNyWm"
   },
   "outputs": [],
   "source": [
    "columns = wbcd.columns\n",
    "X = wbcd[columns[2:32]]\n",
    "y = wbcd.diagnosis\n"
   ]
  },
  {
   "cell_type": "markdown",
   "metadata": {
    "id": "b8Lck1FoYRg6"
   },
   "source": [
    "## Data Preparation"
   ]
  },
  {
   "cell_type": "markdown",
   "metadata": {
    "id": "hEUwTSSPcDDu"
   },
   "source": [
    "* Train test split (Holdout Method) is a model validation procedure that allows us to simulate how a model would perform on new/unseen data.\n",
    "*  In practice, the most commonly used splits are 60:40, 70:30, or 80:20, depending on the size of the initial dataset.\n",
    "* However, for large datasets, 90:10 or 99:1 splits are also common and appropriate.\n",
    "\n",
    "For example, if the dataset contains more than 100,000 training examples, it might be fine to withhold only 10,000 examples for testing in order to get a good estimate of the generalization performance."
   ]
  },
  {
   "cell_type": "code",
   "execution_count": 8,
   "metadata": {
    "id": "4BsVLxiZNyWp"
   },
   "outputs": [],
   "source": [
    "from sklearn.model_selection import train_test_split\n",
    "\n",
    "#random_state is used to reproduce the same results in every run. \n",
    "# It changes the way the data is split in sets of training and testing.\n",
    "X_train, X_test, y_train, y_test = train_test_split(X, y, test_size=0.30, random_state=42)"
   ]
  },
  {
   "cell_type": "code",
   "execution_count": 9,
   "metadata": {},
   "outputs": [
    {
     "data": {
      "text/plain": [
       "diagnosis\n",
       "B    0.625628\n",
       "M    0.374372\n",
       "Name: proportion, dtype: float64"
      ]
     },
     "execution_count": 9,
     "metadata": {},
     "output_type": "execute_result"
    }
   ],
   "source": [
    "y_train.value_counts(normalize=True)"
   ]
  },
  {
   "cell_type": "markdown",
   "metadata": {
    "id": "EISLYtl5abVI"
   },
   "source": [
    "## Feature Scaling"
   ]
  },
  {
   "cell_type": "code",
   "execution_count": 10,
   "metadata": {
    "id": "wXi_VY-rqkAm"
   },
   "outputs": [],
   "source": [
    "from sklearn.preprocessing import StandardScaler\n",
    "sc= StandardScaler() # Object of the class StandardScaler\n",
    "X_train = sc.fit_transform(X_train) # fit_transform() method fits to the data and then transforms it.\n",
    "X_test = sc.fit_transform(X_test)"
   ]
  },
  {
   "cell_type": "markdown",
   "metadata": {
    "id": "ClDMlJ9Ned3h"
   },
   "source": [
    "## Model"
   ]
  },
  {
   "cell_type": "code",
   "execution_count": 11,
   "metadata": {
    "colab": {
     "base_uri": "https://localhost:8080/",
     "height": 80
    },
    "id": "CyxbmTEgNyWr",
    "outputId": "258c465c-a89b-420a-f279-e6cc3e58d4c2"
   },
   "outputs": [
    {
     "data": {
      "text/html": [
       "<style>#sk-container-id-1 {\n",
       "  /* Definition of color scheme common for light and dark mode */\n",
       "  --sklearn-color-text: #000;\n",
       "  --sklearn-color-text-muted: #666;\n",
       "  --sklearn-color-line: gray;\n",
       "  /* Definition of color scheme for unfitted estimators */\n",
       "  --sklearn-color-unfitted-level-0: #fff5e6;\n",
       "  --sklearn-color-unfitted-level-1: #f6e4d2;\n",
       "  --sklearn-color-unfitted-level-2: #ffe0b3;\n",
       "  --sklearn-color-unfitted-level-3: chocolate;\n",
       "  /* Definition of color scheme for fitted estimators */\n",
       "  --sklearn-color-fitted-level-0: #f0f8ff;\n",
       "  --sklearn-color-fitted-level-1: #d4ebff;\n",
       "  --sklearn-color-fitted-level-2: #b3dbfd;\n",
       "  --sklearn-color-fitted-level-3: cornflowerblue;\n",
       "\n",
       "  /* Specific color for light theme */\n",
       "  --sklearn-color-text-on-default-background: var(--sg-text-color, var(--theme-code-foreground, var(--jp-content-font-color1, black)));\n",
       "  --sklearn-color-background: var(--sg-background-color, var(--theme-background, var(--jp-layout-color0, white)));\n",
       "  --sklearn-color-border-box: var(--sg-text-color, var(--theme-code-foreground, var(--jp-content-font-color1, black)));\n",
       "  --sklearn-color-icon: #696969;\n",
       "\n",
       "  @media (prefers-color-scheme: dark) {\n",
       "    /* Redefinition of color scheme for dark theme */\n",
       "    --sklearn-color-text-on-default-background: var(--sg-text-color, var(--theme-code-foreground, var(--jp-content-font-color1, white)));\n",
       "    --sklearn-color-background: var(--sg-background-color, var(--theme-background, var(--jp-layout-color0, #111)));\n",
       "    --sklearn-color-border-box: var(--sg-text-color, var(--theme-code-foreground, var(--jp-content-font-color1, white)));\n",
       "    --sklearn-color-icon: #878787;\n",
       "  }\n",
       "}\n",
       "\n",
       "#sk-container-id-1 {\n",
       "  color: var(--sklearn-color-text);\n",
       "}\n",
       "\n",
       "#sk-container-id-1 pre {\n",
       "  padding: 0;\n",
       "}\n",
       "\n",
       "#sk-container-id-1 input.sk-hidden--visually {\n",
       "  border: 0;\n",
       "  clip: rect(1px 1px 1px 1px);\n",
       "  clip: rect(1px, 1px, 1px, 1px);\n",
       "  height: 1px;\n",
       "  margin: -1px;\n",
       "  overflow: hidden;\n",
       "  padding: 0;\n",
       "  position: absolute;\n",
       "  width: 1px;\n",
       "}\n",
       "\n",
       "#sk-container-id-1 div.sk-dashed-wrapped {\n",
       "  border: 1px dashed var(--sklearn-color-line);\n",
       "  margin: 0 0.4em 0.5em 0.4em;\n",
       "  box-sizing: border-box;\n",
       "  padding-bottom: 0.4em;\n",
       "  background-color: var(--sklearn-color-background);\n",
       "}\n",
       "\n",
       "#sk-container-id-1 div.sk-container {\n",
       "  /* jupyter's `normalize.less` sets `[hidden] { display: none; }`\n",
       "     but bootstrap.min.css set `[hidden] { display: none !important; }`\n",
       "     so we also need the `!important` here to be able to override the\n",
       "     default hidden behavior on the sphinx rendered scikit-learn.org.\n",
       "     See: https://github.com/scikit-learn/scikit-learn/issues/21755 */\n",
       "  display: inline-block !important;\n",
       "  position: relative;\n",
       "}\n",
       "\n",
       "#sk-container-id-1 div.sk-text-repr-fallback {\n",
       "  display: none;\n",
       "}\n",
       "\n",
       "div.sk-parallel-item,\n",
       "div.sk-serial,\n",
       "div.sk-item {\n",
       "  /* draw centered vertical line to link estimators */\n",
       "  background-image: linear-gradient(var(--sklearn-color-text-on-default-background), var(--sklearn-color-text-on-default-background));\n",
       "  background-size: 2px 100%;\n",
       "  background-repeat: no-repeat;\n",
       "  background-position: center center;\n",
       "}\n",
       "\n",
       "/* Parallel-specific style estimator block */\n",
       "\n",
       "#sk-container-id-1 div.sk-parallel-item::after {\n",
       "  content: \"\";\n",
       "  width: 100%;\n",
       "  border-bottom: 2px solid var(--sklearn-color-text-on-default-background);\n",
       "  flex-grow: 1;\n",
       "}\n",
       "\n",
       "#sk-container-id-1 div.sk-parallel {\n",
       "  display: flex;\n",
       "  align-items: stretch;\n",
       "  justify-content: center;\n",
       "  background-color: var(--sklearn-color-background);\n",
       "  position: relative;\n",
       "}\n",
       "\n",
       "#sk-container-id-1 div.sk-parallel-item {\n",
       "  display: flex;\n",
       "  flex-direction: column;\n",
       "}\n",
       "\n",
       "#sk-container-id-1 div.sk-parallel-item:first-child::after {\n",
       "  align-self: flex-end;\n",
       "  width: 50%;\n",
       "}\n",
       "\n",
       "#sk-container-id-1 div.sk-parallel-item:last-child::after {\n",
       "  align-self: flex-start;\n",
       "  width: 50%;\n",
       "}\n",
       "\n",
       "#sk-container-id-1 div.sk-parallel-item:only-child::after {\n",
       "  width: 0;\n",
       "}\n",
       "\n",
       "/* Serial-specific style estimator block */\n",
       "\n",
       "#sk-container-id-1 div.sk-serial {\n",
       "  display: flex;\n",
       "  flex-direction: column;\n",
       "  align-items: center;\n",
       "  background-color: var(--sklearn-color-background);\n",
       "  padding-right: 1em;\n",
       "  padding-left: 1em;\n",
       "}\n",
       "\n",
       "\n",
       "/* Toggleable style: style used for estimator/Pipeline/ColumnTransformer box that is\n",
       "clickable and can be expanded/collapsed.\n",
       "- Pipeline and ColumnTransformer use this feature and define the default style\n",
       "- Estimators will overwrite some part of the style using the `sk-estimator` class\n",
       "*/\n",
       "\n",
       "/* Pipeline and ColumnTransformer style (default) */\n",
       "\n",
       "#sk-container-id-1 div.sk-toggleable {\n",
       "  /* Default theme specific background. It is overwritten whether we have a\n",
       "  specific estimator or a Pipeline/ColumnTransformer */\n",
       "  background-color: var(--sklearn-color-background);\n",
       "}\n",
       "\n",
       "/* Toggleable label */\n",
       "#sk-container-id-1 label.sk-toggleable__label {\n",
       "  cursor: pointer;\n",
       "  display: flex;\n",
       "  width: 100%;\n",
       "  margin-bottom: 0;\n",
       "  padding: 0.5em;\n",
       "  box-sizing: border-box;\n",
       "  text-align: center;\n",
       "  align-items: start;\n",
       "  justify-content: space-between;\n",
       "  gap: 0.5em;\n",
       "}\n",
       "\n",
       "#sk-container-id-1 label.sk-toggleable__label .caption {\n",
       "  font-size: 0.6rem;\n",
       "  font-weight: lighter;\n",
       "  color: var(--sklearn-color-text-muted);\n",
       "}\n",
       "\n",
       "#sk-container-id-1 label.sk-toggleable__label-arrow:before {\n",
       "  /* Arrow on the left of the label */\n",
       "  content: \"▸\";\n",
       "  float: left;\n",
       "  margin-right: 0.25em;\n",
       "  color: var(--sklearn-color-icon);\n",
       "}\n",
       "\n",
       "#sk-container-id-1 label.sk-toggleable__label-arrow:hover:before {\n",
       "  color: var(--sklearn-color-text);\n",
       "}\n",
       "\n",
       "/* Toggleable content - dropdown */\n",
       "\n",
       "#sk-container-id-1 div.sk-toggleable__content {\n",
       "  max-height: 0;\n",
       "  max-width: 0;\n",
       "  overflow: hidden;\n",
       "  text-align: left;\n",
       "  /* unfitted */\n",
       "  background-color: var(--sklearn-color-unfitted-level-0);\n",
       "}\n",
       "\n",
       "#sk-container-id-1 div.sk-toggleable__content.fitted {\n",
       "  /* fitted */\n",
       "  background-color: var(--sklearn-color-fitted-level-0);\n",
       "}\n",
       "\n",
       "#sk-container-id-1 div.sk-toggleable__content pre {\n",
       "  margin: 0.2em;\n",
       "  border-radius: 0.25em;\n",
       "  color: var(--sklearn-color-text);\n",
       "  /* unfitted */\n",
       "  background-color: var(--sklearn-color-unfitted-level-0);\n",
       "}\n",
       "\n",
       "#sk-container-id-1 div.sk-toggleable__content.fitted pre {\n",
       "  /* unfitted */\n",
       "  background-color: var(--sklearn-color-fitted-level-0);\n",
       "}\n",
       "\n",
       "#sk-container-id-1 input.sk-toggleable__control:checked~div.sk-toggleable__content {\n",
       "  /* Expand drop-down */\n",
       "  max-height: 200px;\n",
       "  max-width: 100%;\n",
       "  overflow: auto;\n",
       "}\n",
       "\n",
       "#sk-container-id-1 input.sk-toggleable__control:checked~label.sk-toggleable__label-arrow:before {\n",
       "  content: \"▾\";\n",
       "}\n",
       "\n",
       "/* Pipeline/ColumnTransformer-specific style */\n",
       "\n",
       "#sk-container-id-1 div.sk-label input.sk-toggleable__control:checked~label.sk-toggleable__label {\n",
       "  color: var(--sklearn-color-text);\n",
       "  background-color: var(--sklearn-color-unfitted-level-2);\n",
       "}\n",
       "\n",
       "#sk-container-id-1 div.sk-label.fitted input.sk-toggleable__control:checked~label.sk-toggleable__label {\n",
       "  background-color: var(--sklearn-color-fitted-level-2);\n",
       "}\n",
       "\n",
       "/* Estimator-specific style */\n",
       "\n",
       "/* Colorize estimator box */\n",
       "#sk-container-id-1 div.sk-estimator input.sk-toggleable__control:checked~label.sk-toggleable__label {\n",
       "  /* unfitted */\n",
       "  background-color: var(--sklearn-color-unfitted-level-2);\n",
       "}\n",
       "\n",
       "#sk-container-id-1 div.sk-estimator.fitted input.sk-toggleable__control:checked~label.sk-toggleable__label {\n",
       "  /* fitted */\n",
       "  background-color: var(--sklearn-color-fitted-level-2);\n",
       "}\n",
       "\n",
       "#sk-container-id-1 div.sk-label label.sk-toggleable__label,\n",
       "#sk-container-id-1 div.sk-label label {\n",
       "  /* The background is the default theme color */\n",
       "  color: var(--sklearn-color-text-on-default-background);\n",
       "}\n",
       "\n",
       "/* On hover, darken the color of the background */\n",
       "#sk-container-id-1 div.sk-label:hover label.sk-toggleable__label {\n",
       "  color: var(--sklearn-color-text);\n",
       "  background-color: var(--sklearn-color-unfitted-level-2);\n",
       "}\n",
       "\n",
       "/* Label box, darken color on hover, fitted */\n",
       "#sk-container-id-1 div.sk-label.fitted:hover label.sk-toggleable__label.fitted {\n",
       "  color: var(--sklearn-color-text);\n",
       "  background-color: var(--sklearn-color-fitted-level-2);\n",
       "}\n",
       "\n",
       "/* Estimator label */\n",
       "\n",
       "#sk-container-id-1 div.sk-label label {\n",
       "  font-family: monospace;\n",
       "  font-weight: bold;\n",
       "  display: inline-block;\n",
       "  line-height: 1.2em;\n",
       "}\n",
       "\n",
       "#sk-container-id-1 div.sk-label-container {\n",
       "  text-align: center;\n",
       "}\n",
       "\n",
       "/* Estimator-specific */\n",
       "#sk-container-id-1 div.sk-estimator {\n",
       "  font-family: monospace;\n",
       "  border: 1px dotted var(--sklearn-color-border-box);\n",
       "  border-radius: 0.25em;\n",
       "  box-sizing: border-box;\n",
       "  margin-bottom: 0.5em;\n",
       "  /* unfitted */\n",
       "  background-color: var(--sklearn-color-unfitted-level-0);\n",
       "}\n",
       "\n",
       "#sk-container-id-1 div.sk-estimator.fitted {\n",
       "  /* fitted */\n",
       "  background-color: var(--sklearn-color-fitted-level-0);\n",
       "}\n",
       "\n",
       "/* on hover */\n",
       "#sk-container-id-1 div.sk-estimator:hover {\n",
       "  /* unfitted */\n",
       "  background-color: var(--sklearn-color-unfitted-level-2);\n",
       "}\n",
       "\n",
       "#sk-container-id-1 div.sk-estimator.fitted:hover {\n",
       "  /* fitted */\n",
       "  background-color: var(--sklearn-color-fitted-level-2);\n",
       "}\n",
       "\n",
       "/* Specification for estimator info (e.g. \"i\" and \"?\") */\n",
       "\n",
       "/* Common style for \"i\" and \"?\" */\n",
       "\n",
       ".sk-estimator-doc-link,\n",
       "a:link.sk-estimator-doc-link,\n",
       "a:visited.sk-estimator-doc-link {\n",
       "  float: right;\n",
       "  font-size: smaller;\n",
       "  line-height: 1em;\n",
       "  font-family: monospace;\n",
       "  background-color: var(--sklearn-color-background);\n",
       "  border-radius: 1em;\n",
       "  height: 1em;\n",
       "  width: 1em;\n",
       "  text-decoration: none !important;\n",
       "  margin-left: 0.5em;\n",
       "  text-align: center;\n",
       "  /* unfitted */\n",
       "  border: var(--sklearn-color-unfitted-level-1) 1pt solid;\n",
       "  color: var(--sklearn-color-unfitted-level-1);\n",
       "}\n",
       "\n",
       ".sk-estimator-doc-link.fitted,\n",
       "a:link.sk-estimator-doc-link.fitted,\n",
       "a:visited.sk-estimator-doc-link.fitted {\n",
       "  /* fitted */\n",
       "  border: var(--sklearn-color-fitted-level-1) 1pt solid;\n",
       "  color: var(--sklearn-color-fitted-level-1);\n",
       "}\n",
       "\n",
       "/* On hover */\n",
       "div.sk-estimator:hover .sk-estimator-doc-link:hover,\n",
       ".sk-estimator-doc-link:hover,\n",
       "div.sk-label-container:hover .sk-estimator-doc-link:hover,\n",
       ".sk-estimator-doc-link:hover {\n",
       "  /* unfitted */\n",
       "  background-color: var(--sklearn-color-unfitted-level-3);\n",
       "  color: var(--sklearn-color-background);\n",
       "  text-decoration: none;\n",
       "}\n",
       "\n",
       "div.sk-estimator.fitted:hover .sk-estimator-doc-link.fitted:hover,\n",
       ".sk-estimator-doc-link.fitted:hover,\n",
       "div.sk-label-container:hover .sk-estimator-doc-link.fitted:hover,\n",
       ".sk-estimator-doc-link.fitted:hover {\n",
       "  /* fitted */\n",
       "  background-color: var(--sklearn-color-fitted-level-3);\n",
       "  color: var(--sklearn-color-background);\n",
       "  text-decoration: none;\n",
       "}\n",
       "\n",
       "/* Span, style for the box shown on hovering the info icon */\n",
       ".sk-estimator-doc-link span {\n",
       "  display: none;\n",
       "  z-index: 9999;\n",
       "  position: relative;\n",
       "  font-weight: normal;\n",
       "  right: .2ex;\n",
       "  padding: .5ex;\n",
       "  margin: .5ex;\n",
       "  width: min-content;\n",
       "  min-width: 20ex;\n",
       "  max-width: 50ex;\n",
       "  color: var(--sklearn-color-text);\n",
       "  box-shadow: 2pt 2pt 4pt #999;\n",
       "  /* unfitted */\n",
       "  background: var(--sklearn-color-unfitted-level-0);\n",
       "  border: .5pt solid var(--sklearn-color-unfitted-level-3);\n",
       "}\n",
       "\n",
       ".sk-estimator-doc-link.fitted span {\n",
       "  /* fitted */\n",
       "  background: var(--sklearn-color-fitted-level-0);\n",
       "  border: var(--sklearn-color-fitted-level-3);\n",
       "}\n",
       "\n",
       ".sk-estimator-doc-link:hover span {\n",
       "  display: block;\n",
       "}\n",
       "\n",
       "/* \"?\"-specific style due to the `<a>` HTML tag */\n",
       "\n",
       "#sk-container-id-1 a.estimator_doc_link {\n",
       "  float: right;\n",
       "  font-size: 1rem;\n",
       "  line-height: 1em;\n",
       "  font-family: monospace;\n",
       "  background-color: var(--sklearn-color-background);\n",
       "  border-radius: 1rem;\n",
       "  height: 1rem;\n",
       "  width: 1rem;\n",
       "  text-decoration: none;\n",
       "  /* unfitted */\n",
       "  color: var(--sklearn-color-unfitted-level-1);\n",
       "  border: var(--sklearn-color-unfitted-level-1) 1pt solid;\n",
       "}\n",
       "\n",
       "#sk-container-id-1 a.estimator_doc_link.fitted {\n",
       "  /* fitted */\n",
       "  border: var(--sklearn-color-fitted-level-1) 1pt solid;\n",
       "  color: var(--sklearn-color-fitted-level-1);\n",
       "}\n",
       "\n",
       "/* On hover */\n",
       "#sk-container-id-1 a.estimator_doc_link:hover {\n",
       "  /* unfitted */\n",
       "  background-color: var(--sklearn-color-unfitted-level-3);\n",
       "  color: var(--sklearn-color-background);\n",
       "  text-decoration: none;\n",
       "}\n",
       "\n",
       "#sk-container-id-1 a.estimator_doc_link.fitted:hover {\n",
       "  /* fitted */\n",
       "  background-color: var(--sklearn-color-fitted-level-3);\n",
       "}\n",
       "</style><div id=\"sk-container-id-1\" class=\"sk-top-container\"><div class=\"sk-text-repr-fallback\"><pre>KNeighborsClassifier(n_neighbors=3)</pre><b>In a Jupyter environment, please rerun this cell to show the HTML representation or trust the notebook. <br />On GitHub, the HTML representation is unable to render, please try loading this page with nbviewer.org.</b></div><div class=\"sk-container\" hidden><div class=\"sk-item\"><div class=\"sk-estimator fitted sk-toggleable\"><input class=\"sk-toggleable__control sk-hidden--visually\" id=\"sk-estimator-id-1\" type=\"checkbox\" checked><label for=\"sk-estimator-id-1\" class=\"sk-toggleable__label fitted sk-toggleable__label-arrow\"><div><div>KNeighborsClassifier</div></div><div><a class=\"sk-estimator-doc-link fitted\" rel=\"noreferrer\" target=\"_blank\" href=\"https://scikit-learn.org/1.6/modules/generated/sklearn.neighbors.KNeighborsClassifier.html\">?<span>Documentation for KNeighborsClassifier</span></a><span class=\"sk-estimator-doc-link fitted\">i<span>Fitted</span></span></div></label><div class=\"sk-toggleable__content fitted\"><pre>KNeighborsClassifier(n_neighbors=3)</pre></div> </div></div></div></div>"
      ],
      "text/plain": [
       "KNeighborsClassifier(n_neighbors=3)"
      ]
     },
     "execution_count": 11,
     "metadata": {},
     "output_type": "execute_result"
    }
   ],
   "source": [
    "# knn\n",
    "from sklearn.neighbors import KNeighborsClassifier\n",
    "classifier = KNeighborsClassifier(n_neighbors=3)\n",
    "# training model\n",
    "classifier.fit(X_train,y_train)\n"
   ]
  },
  {
   "cell_type": "markdown",
   "metadata": {
    "id": "v31TI7VIeiAO"
   },
   "source": [
    "## Prediction"
   ]
  },
  {
   "cell_type": "code",
   "execution_count": 12,
   "metadata": {
    "colab": {
     "base_uri": "https://localhost:8080/"
    },
    "id": "gijitioTeLdS",
    "outputId": "5dc4ec18-30de-4df9-9b5b-241f269baa7e"
   },
   "outputs": [
    {
     "data": {
      "text/plain": [
       "array(['B', 'M', 'M', 'B', 'B', 'M', 'M', 'M', 'M', 'B', 'B', 'M', 'B',\n",
       "       'B', 'B', 'M', 'B', 'B', 'B', 'M', 'B', 'B', 'M', 'B', 'B', 'B',\n",
       "       'B', 'B', 'B', 'M', 'B', 'B', 'B', 'B', 'B', 'B', 'M', 'B', 'M',\n",
       "       'B', 'B', 'M', 'B', 'B', 'B', 'B', 'B', 'B', 'B', 'B', 'M', 'M',\n",
       "       'M', 'B', 'B', 'B', 'B', 'M', 'M', 'B', 'B', 'M', 'M', 'B', 'B',\n",
       "       'B', 'M', 'M', 'B', 'B', 'M', 'M', 'B', 'M', 'B', 'B', 'B', 'B',\n",
       "       'B', 'B', 'M', 'B', 'M', 'M', 'M', 'M', 'M', 'M', 'B', 'B', 'B',\n",
       "       'B', 'B', 'B', 'B', 'B', 'M', 'M', 'B', 'M', 'M', 'B', 'M', 'M',\n",
       "       'B', 'B', 'B', 'M', 'B', 'B', 'M', 'B', 'B', 'M', 'B', 'M', 'B',\n",
       "       'B', 'B', 'M', 'B', 'B', 'B', 'M', 'B', 'M', 'M', 'B', 'B', 'M',\n",
       "       'M', 'M', 'B', 'B', 'B', 'M', 'B', 'B', 'B', 'M', 'B', 'M', 'B',\n",
       "       'B', 'M', 'B', 'M', 'M', 'M', 'B', 'M', 'B', 'B', 'B', 'B', 'M',\n",
       "       'M', 'B', 'B', 'B', 'B', 'B', 'B', 'B', 'B', 'B', 'B', 'B', 'B',\n",
       "       'M', 'B'], dtype=object)"
      ]
     },
     "execution_count": 12,
     "metadata": {},
     "output_type": "execute_result"
    }
   ],
   "source": [
    "# prediction\n",
    "y_pred= classifier.predict(X_test)\n",
    "y_pred"
   ]
  },
  {
   "cell_type": "markdown",
   "metadata": {
    "id": "aDxDv5GkepoI"
   },
   "source": [
    "# Evaluating the Model"
   ]
  },
  {
   "cell_type": "code",
   "execution_count": 13,
   "metadata": {
    "colab": {
     "base_uri": "https://localhost:8080/"
    },
    "id": "WtpHpF-2NyWr",
    "outputId": "ec9583ad-4c5b-439b-e720-d335a3c2a312"
   },
   "outputs": [
    {
     "name": "stdout",
     "output_type": "stream",
     "text": [
      "0.9649122807017544\n"
     ]
    }
   ],
   "source": [
    "from sklearn.metrics import accuracy_score\n",
    "# ACC\n",
    "print(accuracy_score(y_test,y_pred))"
   ]
  },
  {
   "cell_type": "code",
   "execution_count": 14,
   "metadata": {
    "colab": {
     "base_uri": "https://localhost:8080/",
     "height": 465
    },
    "id": "R-vUsAUaNyWt",
    "outputId": "32cdb489-4702-49e7-c0e7-15caf9583977"
   },
   "outputs": [
    {
     "name": "stdout",
     "output_type": "stream",
     "text": [
      "[[106   2]\n",
      " [  4  59]]\n"
     ]
    },
    {
     "data": {
      "image/png": "[encoded data removed]",
      "text/plain": [
       "<Figure size 640x480 with 2 Axes>"
      ]
     },
     "metadata": {},
     "output_type": "display_data"
    }
   ],
   "source": [
    "import seaborn as sns\n",
    "from sklearn.metrics import confusion_matrix\n",
    "\n",
    "cm = confusion_matrix(y_test, y_pred)\n",
    "sns.heatmap(cm,annot=True)\n",
    "#plt.savefig('confusion_Matrix.png')\n",
    "print(cm)"
   ]
  },
  {
   "cell_type": "markdown",
   "metadata": {
    "id": "jUaNfhDcmIK2"
   },
   "source": [
    "# The optimal number of neighbors\n",
    " The right choice of k is crucial to finding a good balance between overfitting and underfitting."
   ]
  },
  {
   "cell_type": "code",
   "execution_count": 15,
   "metadata": {
    "colab": {
     "base_uri": "https://localhost:8080/",
     "height": 466
    },
    "id": "m8K9gjzhNyWu",
    "outputId": "af643a60-3b8d-4499-df5f-d56df8f4b4c5"
   },
   "outputs": [
    {
     "data": {
      "text/plain": [
       "<matplotlib.legend.Legend at 0x70cf58893640>"
      ]
     },
     "execution_count": 15,
     "metadata": {},
     "output_type": "execute_result"
    },
    {
     "data": {
      "image/png": "[encoded data removed]",
      "text/plain": [
       "<Figure size 640x480 with 1 Axes>"
      ]
     },
     "metadata": {},
     "output_type": "display_data"
    }
   ],
   "source": [
    "error1= []\n",
    "error2= []\n",
    "\n",
    "for k in range(1,21,2):\n",
    "    knn= KNeighborsClassifier(k)\n",
    "    knn.fit(X_train, y_train)\n",
    "\n",
    "    y_pred1= knn.predict(X_train)\n",
    "    y_pred2= knn.predict(X_test)\n",
    "    \n",
    "    error1.append(np.mean(y_train != y_pred1))\n",
    "    error2.append(np.mean(y_test != y_pred2))\n",
    "\n",
    "plt.plot(range(1,21,2), error1, label=\"train\")\n",
    "plt.plot(range(1,21,2), error2, label=\"test\")\n",
    "plt.xlabel(' k')\n",
    "plt.ylabel('Error')\n",
    "plt.legend()"
   ]
  },
  {
   "cell_type": "code",
   "execution_count": 16,
   "metadata": {
    "colab": {
     "base_uri": "https://localhost:8080/",
     "height": 466
    },
    "id": "kXb0pAlRhx9t",
    "outputId": "4f60f228-c277-487a-a5ac-fbbb97a59812"
   },
   "outputs": [
    {
     "data": {
      "text/plain": [
       "<matplotlib.legend.Legend at 0x70cefd955990>"
      ]
     },
     "execution_count": 16,
     "metadata": {},
     "output_type": "execute_result"
    },
    {
     "data": {
      "image/png": "[encoded data removed]",
      "text/plain": [
       "<Figure size 640x480 with 1 Axes>"
      ]
     },
     "metadata": {},
     "output_type": "display_data"
    }
   ],
   "source": [
    "accuracy_rate =[]\n",
    "\n",
    "for k in range(1,40,2):\n",
    "    cl= KNeighborsClassifier(k)\n",
    "    cl.fit(X_train,y_train)\n",
    "    y_pred= cl.predict(X_test)\n",
    "    score= accuracy_score(y_test\n",
    "    ,y_pred)\n",
    "    accuracy_rate.append(score)\n",
    "\n",
    "plt.plot(range(1,40,2), accuracy_rate, label=\"test\")\n",
    "plt.xlabel('k')\n",
    "plt.ylabel('Accuracy')\n",
    "plt.legend()"
   ]
  },
  {
   "cell_type": "code",
   "execution_count": 17,
   "metadata": {
    "id": "stgrSXYIjXxC"
   },
   "outputs": [
    {
     "name": "stdout",
     "output_type": "stream",
     "text": [
      "0.9707602339181286\n"
     ]
    }
   ],
   "source": [
    "classifier = KNeighborsClassifier(n_neighbors=7)\n",
    "classifier.fit(X_train,y_train)\n",
    "y_pred= classifier.predict(X_test)\n",
    "print(accuracy_score(y_pred,y_test))\n"
   ]
  },
  {
   "cell_type": "code",
   "execution_count": 18,
   "metadata": {
    "id": "35iMLEktmpxp"
   },
   "outputs": [
    {
     "data": {
      "text/plain": [
       "array([[106,   3],\n",
       "       [  2,  60]])"
      ]
     },
     "execution_count": 18,
     "metadata": {},
     "output_type": "execute_result"
    }
   ],
   "source": [
    "confusion_matrix(y_pred,y_test)"
   ]
  },
  {
   "cell_type": "markdown",
   "metadata": {
    "id": "NJmq8aZBkRZc"
   },
   "source": [
    "* KNN is very susceptible to overfitting due to the curse of dimensionality.\n",
    "* The **curse of dimensionality**  describes the phenomenon where the feature space becomes increasingly sparse for an increasing number of dimensions of a fixed-size training dataset.\n",
    "* We can think of even the closest neighbors as being too far away in a high-dimensional space to give a good estimate."
   ]
  },
  {
   "cell_type": "markdown",
   "metadata": {
    "id": "VbLf4jTOnFRY"
   },
   "source": [
    "## Distance metric - remark\n",
    "Choosing the right distance metric that is appropriate for the features in the dataset.\n",
    "Often, a simple Euclidean distance measure is used for real-value examples. However, if we are using a Euclidean distance measure, it is also important to standardize the data so that each feature contributes equally to the distance.\n",
    "\n",
    " The minkowski distance is just a generalization of\n",
    "the Euclidean and Manhattan distance, which can be written as follows:\n",
    "$$ d(x^{(i)},x^{(j)})=\\sqrt[p]{\\sum_k |x^{(i)}_k-x^{(j)}_k|^p}$$\n",
    " It becomes the Euclidean distance if we set the parameter p=2 or the Manhattan distance at p=1."
   ]
  },
  {
   "cell_type": "code",
   "execution_count": 19,
   "metadata": {
    "id": "UQBiDXzspmff"
   },
   "outputs": [
    {
     "name": "stdout",
     "output_type": "stream",
     "text": [
      "0.9707602339181286\n"
     ]
    }
   ],
   "source": [
    "classiferm = KNeighborsClassifier(n_neighbors=7,metric=\"minkowski\",p=2)\n",
    "classifier.fit(X_train,y_train)\n",
    "y_pred= classifier.predict(X_test)\n",
    "print(accuracy_score(y_pred,y_test))"
   ]
  },
  {
   "cell_type": "markdown",
   "metadata": {},
   "source": [
    "# Task\n",
    "\n",
    "For a dataset of voice.csv, build a kNN model. The target variable is 'label'. "
   ]
  },
  {
   "cell_type": "code",
   "execution_count": 20,
   "metadata": {},
   "outputs": [
    {
     "data": {
      "text/html": [
       "<div>\n",
       "<style scoped>\n",
       "    .dataframe tbody tr th:only-of-type {\n",
       "        vertical-align: middle;\n",
       "    }\n",
       "\n",
       "    .dataframe tbody tr th {\n",
       "        vertical-align: top;\n",
       "    }\n",
       "\n",
       "    .dataframe thead th {\n",
       "        text-align: right;\n",
       "    }\n",
       "</style>\n",
       "<table border=\"1\" class=\"dataframe\">\n",
       "  <thead>\n",
       "    <tr style=\"text-align: right;\">\n",
       "      <th></th>\n",
       "      <th>meanfreq</th>\n",
       "      <th>sd</th>\n",
       "      <th>median</th>\n",
       "      <th>Q25</th>\n",
       "      <th>Q75</th>\n",
       "      <th>IQR</th>\n",
       "      <th>skew</th>\n",
       "      <th>kurt</th>\n",
       "      <th>sp.ent</th>\n",
       "      <th>sfm</th>\n",
       "      <th>...</th>\n",
       "      <th>centroid</th>\n",
       "      <th>meanfun</th>\n",
       "      <th>minfun</th>\n",
       "      <th>maxfun</th>\n",
       "      <th>meandom</th>\n",
       "      <th>mindom</th>\n",
       "      <th>maxdom</th>\n",
       "      <th>dfrange</th>\n",
       "      <th>modindx</th>\n",
       "      <th>label</th>\n",
       "    </tr>\n",
       "  </thead>\n",
       "  <tbody>\n",
       "    <tr>\n",
       "      <th>0</th>\n",
       "      <td>0.059781</td>\n",
       "      <td>0.064241</td>\n",
       "      <td>0.032027</td>\n",
       "      <td>0.015071</td>\n",
       "      <td>0.090193</td>\n",
       "      <td>0.075122</td>\n",
       "      <td>12.863462</td>\n",
       "      <td>274.402906</td>\n",
       "      <td>0.893369</td>\n",
       "      <td>0.491918</td>\n",
       "      <td>...</td>\n",
       "      <td>0.059781</td>\n",
       "      <td>0.084279</td>\n",
       "      <td>0.015702</td>\n",
       "      <td>0.275862</td>\n",
       "      <td>0.007812</td>\n",
       "      <td>0.007812</td>\n",
       "      <td>0.007812</td>\n",
       "      <td>0.000000</td>\n",
       "      <td>0.000000</td>\n",
       "      <td>male</td>\n",
       "    </tr>\n",
       "    <tr>\n",
       "      <th>1</th>\n",
       "      <td>0.066009</td>\n",
       "      <td>0.067310</td>\n",
       "      <td>0.040229</td>\n",
       "      <td>0.019414</td>\n",
       "      <td>0.092666</td>\n",
       "      <td>0.073252</td>\n",
       "      <td>22.423285</td>\n",
       "      <td>634.613855</td>\n",
       "      <td>0.892193</td>\n",
       "      <td>0.513724</td>\n",
       "      <td>...</td>\n",
       "      <td>0.066009</td>\n",
       "      <td>0.107937</td>\n",
       "      <td>0.015826</td>\n",
       "      <td>0.250000</td>\n",
       "      <td>0.009014</td>\n",
       "      <td>0.007812</td>\n",
       "      <td>0.054688</td>\n",
       "      <td>0.046875</td>\n",
       "      <td>0.052632</td>\n",
       "      <td>male</td>\n",
       "    </tr>\n",
       "    <tr>\n",
       "      <th>2</th>\n",
       "      <td>0.077316</td>\n",
       "      <td>0.083829</td>\n",
       "      <td>0.036718</td>\n",
       "      <td>0.008701</td>\n",
       "      <td>0.131908</td>\n",
       "      <td>0.123207</td>\n",
       "      <td>30.757155</td>\n",
       "      <td>1024.927705</td>\n",
       "      <td>0.846389</td>\n",
       "      <td>0.478905</td>\n",
       "      <td>...</td>\n",
       "      <td>0.077316</td>\n",
       "      <td>0.098706</td>\n",
       "      <td>0.015656</td>\n",
       "      <td>0.271186</td>\n",
       "      <td>0.007990</td>\n",
       "      <td>0.007812</td>\n",
       "      <td>0.015625</td>\n",
       "      <td>0.007812</td>\n",
       "      <td>0.046512</td>\n",
       "      <td>male</td>\n",
       "    </tr>\n",
       "    <tr>\n",
       "      <th>3</th>\n",
       "      <td>0.151228</td>\n",
       "      <td>0.072111</td>\n",
       "      <td>0.158011</td>\n",
       "      <td>0.096582</td>\n",
       "      <td>0.207955</td>\n",
       "      <td>0.111374</td>\n",
       "      <td>1.232831</td>\n",
       "      <td>4.177296</td>\n",
       "      <td>0.963322</td>\n",
       "      <td>0.727232</td>\n",
       "      <td>...</td>\n",
       "      <td>0.151228</td>\n",
       "      <td>0.088965</td>\n",
       "      <td>0.017798</td>\n",
       "      <td>0.250000</td>\n",
       "      <td>0.201497</td>\n",
       "      <td>0.007812</td>\n",
       "      <td>0.562500</td>\n",
       "      <td>0.554688</td>\n",
       "      <td>0.247119</td>\n",
       "      <td>male</td>\n",
       "    </tr>\n",
       "    <tr>\n",
       "      <th>4</th>\n",
       "      <td>0.135120</td>\n",
       "      <td>0.079146</td>\n",
       "      <td>0.124656</td>\n",
       "      <td>0.078720</td>\n",
       "      <td>0.206045</td>\n",
       "      <td>0.127325</td>\n",
       "      <td>1.101174</td>\n",
       "      <td>4.333713</td>\n",
       "      <td>0.971955</td>\n",
       "      <td>0.783568</td>\n",
       "      <td>...</td>\n",
       "      <td>0.135120</td>\n",
       "      <td>0.106398</td>\n",
       "      <td>0.016931</td>\n",
       "      <td>0.266667</td>\n",
       "      <td>0.712812</td>\n",
       "      <td>0.007812</td>\n",
       "      <td>5.484375</td>\n",
       "      <td>5.476562</td>\n",
       "      <td>0.208274</td>\n",
       "      <td>male</td>\n",
       "    </tr>\n",
       "    <tr>\n",
       "      <th>...</th>\n",
       "      <td>...</td>\n",
       "      <td>...</td>\n",
       "      <td>...</td>\n",
       "      <td>...</td>\n",
       "      <td>...</td>\n",
       "      <td>...</td>\n",
       "      <td>...</td>\n",
       "      <td>...</td>\n",
       "      <td>...</td>\n",
       "      <td>...</td>\n",
       "      <td>...</td>\n",
       "      <td>...</td>\n",
       "      <td>...</td>\n",
       "      <td>...</td>\n",
       "      <td>...</td>\n",
       "      <td>...</td>\n",
       "      <td>...</td>\n",
       "      <td>...</td>\n",
       "      <td>...</td>\n",
       "      <td>...</td>\n",
       "      <td>...</td>\n",
       "    </tr>\n",
       "    <tr>\n",
       "      <th>3163</th>\n",
       "      <td>0.131884</td>\n",
       "      <td>0.084734</td>\n",
       "      <td>0.153707</td>\n",
       "      <td>0.049285</td>\n",
       "      <td>0.201144</td>\n",
       "      <td>0.151859</td>\n",
       "      <td>1.762129</td>\n",
       "      <td>6.630383</td>\n",
       "      <td>0.962934</td>\n",
       "      <td>0.763182</td>\n",
       "      <td>...</td>\n",
       "      <td>0.131884</td>\n",
       "      <td>0.182790</td>\n",
       "      <td>0.083770</td>\n",
       "      <td>0.262295</td>\n",
       "      <td>0.832899</td>\n",
       "      <td>0.007812</td>\n",
       "      <td>4.210938</td>\n",
       "      <td>4.203125</td>\n",
       "      <td>0.161929</td>\n",
       "      <td>female</td>\n",
       "    </tr>\n",
       "    <tr>\n",
       "      <th>3164</th>\n",
       "      <td>0.116221</td>\n",
       "      <td>0.089221</td>\n",
       "      <td>0.076758</td>\n",
       "      <td>0.042718</td>\n",
       "      <td>0.204911</td>\n",
       "      <td>0.162193</td>\n",
       "      <td>0.693730</td>\n",
       "      <td>2.503954</td>\n",
       "      <td>0.960716</td>\n",
       "      <td>0.709570</td>\n",
       "      <td>...</td>\n",
       "      <td>0.116221</td>\n",
       "      <td>0.188980</td>\n",
       "      <td>0.034409</td>\n",
       "      <td>0.275862</td>\n",
       "      <td>0.909856</td>\n",
       "      <td>0.039062</td>\n",
       "      <td>3.679688</td>\n",
       "      <td>3.640625</td>\n",
       "      <td>0.277897</td>\n",
       "      <td>female</td>\n",
       "    </tr>\n",
       "    <tr>\n",
       "      <th>3165</th>\n",
       "      <td>0.142056</td>\n",
       "      <td>0.095798</td>\n",
       "      <td>0.183731</td>\n",
       "      <td>0.033424</td>\n",
       "      <td>0.224360</td>\n",
       "      <td>0.190936</td>\n",
       "      <td>1.876502</td>\n",
       "      <td>6.604509</td>\n",
       "      <td>0.946854</td>\n",
       "      <td>0.654196</td>\n",
       "      <td>...</td>\n",
       "      <td>0.142056</td>\n",
       "      <td>0.209918</td>\n",
       "      <td>0.039506</td>\n",
       "      <td>0.275862</td>\n",
       "      <td>0.494271</td>\n",
       "      <td>0.007812</td>\n",
       "      <td>2.937500</td>\n",
       "      <td>2.929688</td>\n",
       "      <td>0.194759</td>\n",
       "      <td>female</td>\n",
       "    </tr>\n",
       "    <tr>\n",
       "      <th>3166</th>\n",
       "      <td>0.143659</td>\n",
       "      <td>0.090628</td>\n",
       "      <td>0.184976</td>\n",
       "      <td>0.043508</td>\n",
       "      <td>0.219943</td>\n",
       "      <td>0.176435</td>\n",
       "      <td>1.591065</td>\n",
       "      <td>5.388298</td>\n",
       "      <td>0.950436</td>\n",
       "      <td>0.675470</td>\n",
       "      <td>...</td>\n",
       "      <td>0.143659</td>\n",
       "      <td>0.172375</td>\n",
       "      <td>0.034483</td>\n",
       "      <td>0.250000</td>\n",
       "      <td>0.791360</td>\n",
       "      <td>0.007812</td>\n",
       "      <td>3.593750</td>\n",
       "      <td>3.585938</td>\n",
       "      <td>0.311002</td>\n",
       "      <td>female</td>\n",
       "    </tr>\n",
       "    <tr>\n",
       "      <th>3167</th>\n",
       "      <td>0.165509</td>\n",
       "      <td>0.092884</td>\n",
       "      <td>0.183044</td>\n",
       "      <td>0.070072</td>\n",
       "      <td>0.250827</td>\n",
       "      <td>0.180756</td>\n",
       "      <td>1.705029</td>\n",
       "      <td>5.769115</td>\n",
       "      <td>0.938829</td>\n",
       "      <td>0.601529</td>\n",
       "      <td>...</td>\n",
       "      <td>0.165509</td>\n",
       "      <td>0.185607</td>\n",
       "      <td>0.062257</td>\n",
       "      <td>0.271186</td>\n",
       "      <td>0.227022</td>\n",
       "      <td>0.007812</td>\n",
       "      <td>0.554688</td>\n",
       "      <td>0.546875</td>\n",
       "      <td>0.350000</td>\n",
       "      <td>female</td>\n",
       "    </tr>\n",
       "  </tbody>\n",
       "</table>\n",
       "<p>3168 rows × 21 columns</p>\n",
       "</div>"
      ],
      "text/plain": [
       "      meanfreq        sd    median       Q25       Q75       IQR       skew  \\\n",
       "0     0.059781  0.064241  0.032027  0.015071  0.090193  0.075122  12.863462   \n",
       "1     0.066009  0.067310  0.040229  0.019414  0.092666  0.073252  22.423285   \n",
       "2     0.077316  0.083829  0.036718  0.008701  0.131908  0.123207  30.757155   \n",
       "3     0.151228  0.072111  0.158011  0.096582  0.207955  0.111374   1.232831   \n",
       "4     0.135120  0.079146  0.124656  0.078720  0.206045  0.127325   1.101174   \n",
       "...        ...       ...       ...       ...       ...       ...        ...   \n",
       "3163  0.131884  0.084734  0.153707  0.049285  0.201144  0.151859   1.762129   \n",
       "3164  0.116221  0.089221  0.076758  0.042718  0.204911  0.162193   0.693730   \n",
       "3165  0.142056  0.095798  0.183731  0.033424  0.224360  0.190936   1.876502   \n",
       "3166  0.143659  0.090628  0.184976  0.043508  0.219943  0.176435   1.591065   \n",
       "3167  0.165509  0.092884  0.183044  0.070072  0.250827  0.180756   1.705029   \n",
       "\n",
       "             kurt    sp.ent       sfm  ...  centroid   meanfun    minfun  \\\n",
       "0      274.402906  0.893369  0.491918  ...  0.059781  0.084279  0.015702   \n",
       "1      634.613855  0.892193  0.513724  ...  0.066009  0.107937  0.015826   \n",
       "2     1024.927705  0.846389  0.478905  ...  0.077316  0.098706  0.015656   \n",
       "3        4.177296  0.963322  0.727232  ...  0.151228  0.088965  0.017798   \n",
       "4        4.333713  0.971955  0.783568  ...  0.135120  0.106398  0.016931   \n",
       "...           ...       ...       ...  ...       ...       ...       ...   \n",
       "3163     6.630383  0.962934  0.763182  ...  0.131884  0.182790  0.083770   \n",
       "3164     2.503954  0.960716  0.709570  ...  0.116221  0.188980  0.034409   \n",
       "3165     6.604509  0.946854  0.654196  ...  0.142056  0.209918  0.039506   \n",
       "3166     5.388298  0.950436  0.675470  ...  0.143659  0.172375  0.034483   \n",
       "3167     5.769115  0.938829  0.601529  ...  0.165509  0.185607  0.062257   \n",
       "\n",
       "        maxfun   meandom    mindom    maxdom   dfrange   modindx   label  \n",
       "0     0.275862  0.007812  0.007812  0.007812  0.000000  0.000000    male  \n",
       "1     0.250000  0.009014  0.007812  0.054688  0.046875  0.052632    male  \n",
       "2     0.271186  0.007990  0.007812  0.015625  0.007812  0.046512    male  \n",
       "3     0.250000  0.201497  0.007812  0.562500  0.554688  0.247119    male  \n",
       "4     0.266667  0.712812  0.007812  5.484375  5.476562  0.208274    male  \n",
       "...        ...       ...       ...       ...       ...       ...     ...  \n",
       "3163  0.262295  0.832899  0.007812  4.210938  4.203125  0.161929  female  \n",
       "3164  0.275862  0.909856  0.039062  3.679688  3.640625  0.277897  female  \n",
       "3165  0.275862  0.494271  0.007812  2.937500  2.929688  0.194759  female  \n",
       "3166  0.250000  0.791360  0.007812  3.593750  3.585938  0.311002  female  \n",
       "3167  0.271186  0.227022  0.007812  0.554688  0.546875  0.350000  female  \n",
       "\n",
       "[3168 rows x 21 columns]"
      ]
     },
     "execution_count": 20,
     "metadata": {},
     "output_type": "execute_result"
    }
   ],
   "source": [
    "import pandas as pd\n",
    "from sklearn.preprocessing import StandardScaler\n",
    "from sklearn.model_selection import train_test_split\n",
    "from sklearn.neighbors import KNeighborsClassifier\n",
    "from sklearn.metrics import accuracy_score\n",
    "\n",
    "target_variable= 'label'\n",
    "data= pd.read_csv('../content/voice.csv')\n",
    "data\n"
   ]
  },
  {
   "cell_type": "code",
   "execution_count": 21,
   "metadata": {},
   "outputs": [
    {
     "data": {
      "text/plain": [
       "meanfreq    0\n",
       "sd          0\n",
       "median      0\n",
       "Q25         0\n",
       "Q75         0\n",
       "IQR         0\n",
       "skew        0\n",
       "kurt        0\n",
       "sp.ent      0\n",
       "sfm         0\n",
       "mode        0\n",
       "centroid    0\n",
       "meanfun     0\n",
       "minfun      0\n",
       "maxfun      0\n",
       "meandom     0\n",
       "mindom      0\n",
       "maxdom      0\n",
       "dfrange     0\n",
       "modindx     0\n",
       "label       0\n",
       "dtype: int64"
      ]
     },
     "execution_count": 21,
     "metadata": {},
     "output_type": "execute_result"
    }
   ],
   "source": [
    "# Check for missing values\n",
    "data.isna().sum()"
   ]
  },
  {
   "cell_type": "code",
   "execution_count": 22,
   "metadata": {},
   "outputs": [
    {
     "data": {
      "text/plain": [
       "count     3168\n",
       "unique       2\n",
       "top       male\n",
       "freq      1584\n",
       "Name: label, dtype: object"
      ]
     },
     "execution_count": 22,
     "metadata": {},
     "output_type": "execute_result"
    }
   ],
   "source": [
    "# Some statistics\n",
    "data[target_variable].describe()"
   ]
  },
  {
   "cell_type": "code",
   "execution_count": 23,
   "metadata": {},
   "outputs": [],
   "source": [
    "X= data[data.columns[:-1]]\n",
    "y= data[target_variable]\n",
    "# Preparing sets of training and testing\n",
    "X_train, X_test, y_train, y_test = train_test_split(X, y, test_size=0.30, random_state=1)\n",
    "\n",
    "# Scaling the data\n",
    "scaler= StandardScaler()\n",
    "X_train= scaler.fit_transform(X_train)\n",
    "X_test= scaler.fit_transform(X_test)"
   ]
  },
  {
   "cell_type": "code",
   "execution_count": 24,
   "metadata": {},
   "outputs": [
    {
     "name": "stdout",
     "output_type": "stream",
     "text": [
      "Optimal number of neighbors:  3\n"
     ]
    },
    {
     "data": {
      "image/png": "[encoded data removed]",
      "text/plain": [
       "<Figure size 640x480 with 1 Axes>"
      ]
     },
     "metadata": {},
     "output_type": "display_data"
    }
   ],
   "source": [
    "# Finding optimal number of neighbors\n",
    "accuracy_rate = []\n",
    "for k in range(1,40,2):\n",
    "    classifier= KNeighborsClassifier(n_neighbors=k)\n",
    "    classifier.fit(X_train,y_train)\n",
    "    y_pred= classifier.predict(X_test)\n",
    "    score= accuracy_score(y_test,y_pred)\n",
    "    accuracy_rate.append(score)\n",
    "\n",
    "plt.plot(range(1,40,2), accuracy_rate, label=\"test\")\n",
    "\n",
    "# Obtaining the optimal number of neighbors\n",
    "k= 2*accuracy_rate.index(max(accuracy_rate)) +1 \n",
    "print(\"Optimal number of neighbors: \", k)\n"
   ]
  },
  {
   "cell_type": "code",
   "execution_count": 25,
   "metadata": {},
   "outputs": [
    {
     "name": "stdout",
     "output_type": "stream",
     "text": [
      "Prediction:\n",
      " ['female' 'female' 'female' 'female' 'female' 'female' 'female' 'female'\n",
      " 'male' 'male' 'male' 'male' 'male' 'female' 'female' 'male' 'male'\n",
      " 'female' 'male' 'female' 'female' 'male' 'female' 'male' 'male' 'male'\n",
      " 'male' 'male' 'male' 'male' 'female' 'female' 'male' 'female' 'female'\n",
      " 'male' 'female' 'male' 'female' 'male' 'female' 'male' 'male' 'female'\n",
      " 'female' 'female' 'male' 'female' 'male' 'male' 'female' 'male' 'female'\n",
      " 'male' 'male' 'male' 'male' 'male' 'male' 'female' 'male' 'female' 'male'\n",
      " 'male' 'female' 'male' 'female' 'female' 'female' 'male' 'male' 'male'\n",
      " 'female' 'male' 'male' 'male' 'female' 'female' 'male' 'female' 'male'\n",
      " 'male' 'male' 'female' 'female' 'female' 'female' 'male' 'male' 'female'\n",
      " 'male' 'male' 'female' 'male' 'male' 'male' 'male' 'female' 'female'\n",
      " 'female' 'male' 'male' 'female' 'male' 'male' 'female' 'female' 'female'\n",
      " 'female' 'female' 'male' 'male' 'male' 'female' 'female' 'female'\n",
      " 'female' 'male' 'male' 'male' 'female' 'female' 'male' 'female' 'male'\n",
      " 'female' 'female' 'female' 'male' 'male' 'female' 'male' 'female' 'male'\n",
      " 'male' 'female' 'male' 'female' 'male' 'male' 'female' 'female' 'male'\n",
      " 'male' 'male' 'female' 'female' 'male' 'female' 'male' 'male' 'female'\n",
      " 'female' 'female' 'female' 'female' 'male' 'female' 'male' 'female'\n",
      " 'male' 'male' 'female' 'male' 'female' 'female' 'female' 'female'\n",
      " 'female' 'female' 'male' 'male' 'female' 'female' 'female' 'male' 'male'\n",
      " 'female' 'female' 'male' 'male' 'male' 'male' 'male' 'male' 'male'\n",
      " 'female' 'female' 'male' 'male' 'male' 'male' 'female' 'male' 'male'\n",
      " 'male' 'female' 'female' 'male' 'male' 'female' 'male' 'male' 'female'\n",
      " 'male' 'female' 'female' 'male' 'female' 'female' 'female' 'female'\n",
      " 'male' 'female' 'male' 'female' 'male' 'female' 'female' 'male' 'male'\n",
      " 'male' 'male' 'female' 'female' 'female' 'male' 'female' 'male' 'male'\n",
      " 'female' 'male' 'male' 'male' 'male' 'male' 'male' 'male' 'male' 'female'\n",
      " 'male' 'female' 'female' 'male' 'female' 'male' 'female' 'female' 'male'\n",
      " 'female' 'male' 'female' 'male' 'female' 'female' 'female' 'male'\n",
      " 'female' 'male' 'male' 'female' 'male' 'male' 'male' 'male' 'female'\n",
      " 'male' 'male' 'female' 'female' 'female' 'male' 'female' 'male' 'male'\n",
      " 'male' 'female' 'female' 'male' 'male' 'female' 'male' 'female' 'male'\n",
      " 'male' 'male' 'male' 'female' 'male' 'female' 'male' 'female' 'female'\n",
      " 'female' 'male' 'male' 'female' 'male' 'female' 'male' 'female' 'female'\n",
      " 'male' 'male' 'male' 'female' 'male' 'female' 'female' 'male' 'male'\n",
      " 'female' 'male' 'male' 'male' 'female' 'male' 'male' 'female' 'female'\n",
      " 'female' 'female' 'male' 'male' 'male' 'male' 'female' 'female' 'female'\n",
      " 'female' 'female' 'male' 'male' 'male' 'female' 'female' 'female' 'male'\n",
      " 'female' 'male' 'male' 'female' 'male' 'female' 'female' 'female'\n",
      " 'female' 'female' 'male' 'female' 'male' 'male' 'female' 'male' 'male'\n",
      " 'male' 'female' 'male' 'female' 'female' 'male' 'male' 'male' 'male'\n",
      " 'male' 'female' 'female' 'female' 'female' 'female' 'male' 'male' 'male'\n",
      " 'male' 'female' 'female' 'female' 'male' 'male' 'female' 'female'\n",
      " 'female' 'female' 'female' 'female' 'female' 'male' 'male' 'male' 'male'\n",
      " 'male' 'female' 'female' 'male' 'male' 'male' 'female' 'female' 'male'\n",
      " 'male' 'female' 'female' 'male' 'male' 'female' 'female' 'female' 'male'\n",
      " 'female' 'female' 'male' 'female' 'male' 'female' 'female' 'male'\n",
      " 'female' 'male' 'female' 'male' 'male' 'female' 'female' 'male' 'female'\n",
      " 'female' 'male' 'female' 'female' 'female' 'female' 'male' 'female'\n",
      " 'male' 'female' 'female' 'female' 'female' 'male' 'female' 'male' 'male'\n",
      " 'male' 'female' 'male' 'female' 'male' 'male' 'male' 'female' 'female'\n",
      " 'male' 'male' 'female' 'female' 'female' 'male' 'female' 'male' 'female'\n",
      " 'male' 'female' 'female' 'female' 'female' 'male' 'male' 'male' 'female'\n",
      " 'female' 'male' 'male' 'female' 'male' 'female' 'male' 'male' 'female'\n",
      " 'female' 'male' 'male' 'male' 'female' 'male' 'male' 'male' 'male' 'male'\n",
      " 'female' 'male' 'male' 'female' 'female' 'male' 'female' 'male' 'male'\n",
      " 'male' 'female' 'female' 'male' 'female' 'male' 'male' 'male' 'female'\n",
      " 'female' 'female' 'female' 'female' 'female' 'female' 'male' 'female'\n",
      " 'female' 'female' 'male' 'male' 'male' 'female' 'female' 'female'\n",
      " 'female' 'female' 'female' 'male' 'male' 'female' 'male' 'female'\n",
      " 'female' 'male' 'male' 'female' 'male' 'female' 'male' 'male' 'male'\n",
      " 'female' 'female' 'male' 'female' 'male' 'female' 'female' 'female'\n",
      " 'male' 'female' 'female' 'male' 'male' 'female' 'female' 'male' 'male'\n",
      " 'male' 'female' 'female' 'female' 'male' 'male' 'male' 'male' 'male'\n",
      " 'female' 'male' 'female' 'female' 'male' 'male' 'female' 'male' 'male'\n",
      " 'female' 'female' 'female' 'female' 'male' 'male' 'male' 'female' 'male'\n",
      " 'female' 'male' 'female' 'male' 'female' 'male' 'male' 'female' 'female'\n",
      " 'female' 'male' 'male' 'female' 'female' 'female' 'female' 'male' 'male'\n",
      " 'male' 'male' 'female' 'male' 'female' 'male' 'female' 'male' 'male'\n",
      " 'male' 'female' 'male' 'female' 'male' 'male' 'male' 'male' 'female'\n",
      " 'male' 'male' 'male' 'female' 'male' 'female' 'female' 'female' 'female'\n",
      " 'female' 'female' 'male' 'female' 'female' 'male' 'female' 'male'\n",
      " 'female' 'male' 'female' 'female' 'male' 'female' 'male' 'male' 'female'\n",
      " 'female' 'female' 'female' 'male' 'female' 'female' 'male' 'female'\n",
      " 'male' 'male' 'female' 'female' 'male' 'male' 'male' 'female' 'male'\n",
      " 'male' 'male' 'male' 'male' 'female' 'male' 'female' 'female' 'male'\n",
      " 'male' 'female' 'female' 'male' 'female' 'female' 'male' 'female'\n",
      " 'female' 'male' 'female' 'female' 'male' 'male' 'female' 'female' 'male'\n",
      " 'female' 'male' 'female' 'male' 'female' 'female' 'female' 'female'\n",
      " 'male' 'female' 'female' 'male' 'male' 'male' 'male' 'female' 'female'\n",
      " 'male' 'female' 'male' 'male' 'male' 'male' 'female' 'male' 'female'\n",
      " 'male' 'male' 'male' 'female' 'male' 'female' 'male' 'female' 'male'\n",
      " 'male' 'male' 'male' 'female' 'female' 'female' 'male' 'male' 'female'\n",
      " 'female' 'female' 'male' 'female' 'male' 'male' 'male' 'male' 'female'\n",
      " 'female' 'male' 'female' 'female' 'male' 'male' 'male' 'female' 'male'\n",
      " 'male' 'female' 'male' 'female' 'female' 'female' 'female' 'male' 'male'\n",
      " 'male' 'male' 'female' 'male' 'female' 'female' 'male' 'male' 'male'\n",
      " 'female' 'female' 'female' 'male' 'female' 'female' 'female' 'male'\n",
      " 'male' 'male' 'male' 'male' 'female' 'female' 'male' 'male' 'male'\n",
      " 'female' 'male' 'female' 'male' 'female' 'female' 'female' 'male' 'male'\n",
      " 'male' 'male' 'female' 'male' 'male' 'female' 'male' 'male' 'female'\n",
      " 'male' 'male' 'male' 'female' 'male' 'female' 'female' 'male' 'male'\n",
      " 'female' 'female' 'female' 'male' 'male' 'male' 'male' 'female' 'male'\n",
      " 'male' 'male' 'male' 'female' 'male' 'female' 'female' 'female' 'male'\n",
      " 'male' 'female' 'female' 'female' 'male' 'male' 'male' 'male' 'male'\n",
      " 'male' 'female' 'male' 'male' 'male' 'male' 'male' 'male' 'male' 'female'\n",
      " 'female' 'male' 'male' 'male' 'male' 'male' 'male' 'male' 'male' 'female'\n",
      " 'male' 'male' 'female' 'male' 'female' 'female' 'female' 'male' 'female'\n",
      " 'female' 'male' 'male' 'male' 'female' 'male' 'male' 'female' 'female'\n",
      " 'male' 'male' 'female' 'female' 'female' 'female' 'male' 'female' 'male'\n",
      " 'female' 'female' 'female' 'male' 'female' 'female' 'female' 'female'\n",
      " 'male' 'female' 'male' 'female' 'female' 'male' 'female' 'male' 'male'\n",
      " 'male' 'female' 'female' 'male' 'female' 'female' 'male' 'female' 'male'\n",
      " 'male' 'male' 'female' 'male' 'male' 'male' 'female' 'male' 'female'\n",
      " 'male' 'male' 'female' 'male' 'female' 'female' 'female' 'male' 'male'\n",
      " 'male' 'female' 'male' 'male' 'male' 'female' 'male' 'female' 'male'\n",
      " 'female' 'female' 'male' 'male' 'male' 'male' 'female' 'male' 'male'\n",
      " 'male' 'male' 'female'] \n",
      "\n",
      "Score:  0.9758149316508938 \n",
      "\n",
      "Confusion Matrix:\n",
      " [[444  13]\n",
      " [ 10 484]] \n",
      "\n"
     ]
    }
   ],
   "source": [
    "# Constructing the model\n",
    "knn= KNeighborsClassifier(k)\n",
    "knn.fit(X_train, y_train)\n",
    "y_pred= knn.predict(X_test)\n",
    "\n",
    "# Evaluating the model\n",
    "score= accuracy_score(y_test, y_pred)\n",
    "cm= confusion_matrix(y_test, y_pred)\n",
    "\n",
    "print(\"Prediction:\\n\",y_pred,\"\\n\")\n",
    "print(\"Score: \",score,\"\\n\")\n",
    "print(\"Confusion Matrix:\\n\",cm,\"\\n\")"
   ]
  }
 ],
 "metadata": {
  "colab": {
   "provenance": []
  },
  "kernelspec": {
   "display_name": ".venv",
   "language": "python",
   "name": "python3"
  },
  "language_info": {
   "codemirror_mode": {
    "name": "ipython",
    "version": 3
   },
   "file_extension": ".py",
   "mimetype": "text/x-python",
   "name": "python",
   "nbconvert_exporter": "python",
   "pygments_lexer": "ipython3",
   "version": "3.10.2"
  }
 },
 "nbformat": 4,
 "nbformat_minor": 0
}
