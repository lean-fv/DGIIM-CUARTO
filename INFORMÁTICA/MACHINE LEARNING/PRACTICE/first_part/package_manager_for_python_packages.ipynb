{
 "cells": [
  {
   "cell_type": "markdown",
   "metadata": {},
   "source": [
    "# Package manager for Python packages"
   ]
  },
  {
   "cell_type": "markdown",
   "metadata": {},
   "source": [
    "### **pip**\n",
    "\n",
    "pip is a package manager for Python packages.\n",
    "\n",
    "1. *pip list*: This command will display a list of all the Python packages installed in Python environment and their versions.\n",
    "pip list supports the following options:\n",
    "\n",
    "    1. *--format \\<format-name>* sets the display format (columns, freeze, json)\n",
    "    1. *-o, --outdated* displays only out-of-date packages\n",
    "    1. *-u, --uptodate* displays only up-to-date packages\n",
    "\n",
    "1. To install a package: *pip install \\<package name>*\n",
    "1. To upgrade a package that is already installed: *pip install --upgrade \\<package name>*\n",
    "1. Version of the package: *\\<package name>.\\_\\_version__*"
   ]
  },
  {
   "cell_type": "code",
   "execution_count": 1,
   "metadata": {},
   "outputs": [
    {
     "data": {
      "text/plain": [
       "'2.2.3'"
      ]
     },
     "execution_count": 1,
     "metadata": {},
     "output_type": "execute_result"
    }
   ],
   "source": [
    "import pandas as pd \n",
    "pd.__version__"
   ]
  }
 ],
 "metadata": {
  "kernelspec": {
   "display_name": ".venv",
   "language": "python",
   "name": "python3"
  },
  "language_info": {
   "codemirror_mode": {
    "name": "ipython",
    "version": 3
   },
   "file_extension": ".py",
   "mimetype": "text/x-python",
   "name": "python",
   "nbconvert_exporter": "python",
   "pygments_lexer": "ipython3",
   "version": "3.12.3"
  }
 },
 "nbformat": 4,
 "nbformat_minor": 2
}
