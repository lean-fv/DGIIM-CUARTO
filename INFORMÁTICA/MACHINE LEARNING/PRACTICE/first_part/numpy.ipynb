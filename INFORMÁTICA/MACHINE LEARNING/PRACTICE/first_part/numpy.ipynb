{
 "cells": [
  {
   "cell_type": "markdown",
   "metadata": {},
   "source": [
    "# NUMPY"
   ]
  },
  {
   "cell_type": "markdown",
   "metadata": {},
   "source": [
    "NumPy stands for Numerical Python. It is a Python library used for working with an array. In Python, we use the list for the array but it’s slow to process. \n",
    "\n",
    "Consider a program that will create a list of squares of the numbers 0 to 4320, using the list and numpy library"
   ]
  },
  {
   "cell_type": "code",
   "execution_count": 1,
   "metadata": {},
   "outputs": [
    {
     "data": {
      "text/plain": [
       "0.004810462000023108"
      ]
     },
     "execution_count": 1,
     "metadata": {},
     "output_type": "execute_result"
    }
   ],
   "source": [
    "import numpy as np\n",
    "import timeit\n",
    "\n",
    "t = timeit.Timer(\"[i**2 for i in range(4321)]\")\n",
    "t.timeit(number=1000) #\n",
    "t = timeit.Timer(\"np.arange(4321)**2\",\"import numpy as np\")\n",
    "t.timeit(number=1000)"
   ]
  },
  {
   "cell_type": "markdown",
   "metadata": {},
   "source": [
    "Types of Array:\n",
    "\n",
    "1. One Dimensional Array\n",
    "1. Multi-Dimensional Array"
   ]
  },
  {
   "cell_type": "markdown",
   "metadata": {},
   "source": [
    "**Uni-Dimensional Array**"
   ]
  },
  {
   "cell_type": "code",
   "execution_count": 2,
   "metadata": {},
   "outputs": [
    {
     "name": "stdout",
     "output_type": "stream",
     "text": [
      "List in python :  [1, 2, 3, 4]\n",
      "Numpy Array in python : [1 2 3 4]\n"
     ]
    }
   ],
   "source": [
    "# importing numpy module\n",
    "import numpy as np\n",
    "# creating list\n",
    "list = [1, 2, 3, 4]\n",
    "# creating numpy array\n",
    "sample_array = np.array(list)\n",
    "print(\"List in python : \", list)\n",
    "print(\"Numpy Array in python :\", sample_array)"
   ]
  },
  {
   "cell_type": "markdown",
   "metadata": {},
   "source": [
    "**Multi-Dimensional Array**"
   ]
  },
  {
   "cell_type": "code",
   "execution_count": 3,
   "metadata": {},
   "outputs": [
    {
     "name": "stdout",
     "output_type": "stream",
     "text": [
      "Numpy multi dimensional array in Python\n",
      " [[ 1  2  3  4]\n",
      " [ 5  6  7  8]\n",
      " [ 9 10 11 12]]\n",
      "Shape of the array : (3, 4)\n"
     ]
    }
   ],
   "source": [
    "# creating list \n",
    "list_1 = [1, 2, 3, 4]\n",
    "list_2 = [5, 6, 7, 8]\n",
    "list_3 = [9, 10, 11, 12]\n",
    "# creating numpy array\n",
    "sample_array = np.array([list_1,list_2,list_3])\n",
    "print(\"Numpy multi dimensional array in Python\\n\", sample_array)\n",
    "\n",
    "# print shape of the array\n",
    "print(\"Shape of the array :\",   sample_array.shape)"
   ]
  },
  {
   "cell_type": "markdown",
   "metadata": {},
   "source": [
    "In general, NumPy arrays are a homogeneous kind of data structure that has the same types of items. The main benefit of an array is its certainty of storage size because of its same type of items. A Python list uses a loop to iterate the elements and perform operations on them. Another benefit of NumPy arrays is to offer vectorized operations instead of iterating each item and performing operations on it. NumPy arrays are indexed just like a Python list and start from 0."
   ]
  },
  {
   "cell_type": "code",
   "execution_count": 4,
   "metadata": {},
   "outputs": [
    {
     "name": "stdout",
     "output_type": "stream",
     "text": [
      "[[1 2 3]\n",
      " [4 5 6]]\n",
      "<class 'numpy.ndarray'>\n",
      "int64\n",
      "(2, 3)\n",
      "6\n",
      "2\n"
     ]
    }
   ],
   "source": [
    "a=np.array([(1,2,3),(4,5,6)])\n",
    "print(a)\n",
    "print(type(a))\n",
    "print(a.dtype)\n",
    "print(a.shape)\n",
    "print(a.size)\n",
    "print(len(a))"
   ]
  },
  {
   "cell_type": "markdown",
   "metadata": {},
   "source": [
    "**NumPy array numerical data types**\n",
    "\n",
    "![](../images/pythontyp.jpg)"
   ]
  },
  {
   "cell_type": "code",
   "execution_count": 5,
   "metadata": {},
   "outputs": [
    {
     "name": "stdout",
     "output_type": "stream",
     "text": [
      "[ 1.  2.  3.  4.  5.  6.  7.  8.  9. 10.]\n"
     ]
    }
   ],
   "source": [
    "arr=np.arange(1,11, dtype= np.float32)\n",
    "print(arr)"
   ]
  },
  {
   "cell_type": "markdown",
   "metadata": {},
   "source": [
    "It is also another way to create a NumPy array is with arange(). It creates an evenly spaced NumPy array. Three values – start, stop, and step – can be passed to the arange(start,stop[,step]) function. The start is the initial value of the range, the stop is the last value of the range, and the step is the increment in that range. The stop parameter is compulsory. \n",
    "\n",
    "The arange(1,11) function will return 1 to 10 values with one step because the step is, by default, 1. The arrange() function generates a value that is one less than the stop parameter value."
   ]
  },
  {
   "cell_type": "markdown",
   "metadata": {},
   "source": [
    "**Data type character codes**\n",
    "\n",
    "Character codes are included for backward compatibility with Numeric. Numeric is the\n",
    "predecessor of NumPy. Its use is not recommended, but the code is supplied here because\n",
    "it pops up in various locations. You should use the dtype object instead.\n",
    "\n",
    "![](../images/pythoncode.jpg)"
   ]
  },
  {
   "cell_type": "code",
   "execution_count": 6,
   "metadata": {},
   "outputs": [
    {
     "name": "stdout",
     "output_type": "stream",
     "text": [
      "[ 1.  2.  3.  4.  5.  6.  7.  8.  9. 10.]\n"
     ]
    }
   ],
   "source": [
    "var1=np.arange(1,11, dtype='f')\n",
    "print(var1)"
   ]
  },
  {
   "cell_type": "markdown",
   "metadata": {},
   "source": [
    "**Slicing NumPy arrays**\n",
    "\n",
    "Indexing prefers to select a single value while slicing is used to select multiple values from an array. NumPy arrays also support negative indexing and slicing. Here, the negative sign indicates the opposite direction and indexing starts from the right-hand side with a starting value of -1.\n",
    "\n",
    "In the slice operation, we use the colon symbol to select the collection of values. Slicing takes three values: start, stop, and step:"
   ]
  },
  {
   "cell_type": "code",
   "execution_count": 7,
   "metadata": {},
   "outputs": [
    {
     "name": "stdout",
     "output_type": "stream",
     "text": [
      "[0 1 2 3 4 5 6 7 8 9]\n",
      "2\n",
      "8\n",
      "[3 4 5 6 7 8 9]\n",
      "[7 8 9]\n",
      "[2 4 6]\n"
     ]
    }
   ],
   "source": [
    "arr = np.arange(0,10)\n",
    "print(arr)\n",
    "print(arr[2])\n",
    "print(arr[-2])\n",
    "print(arr[3:])\n",
    "print(arr[-3:])\n",
    "print(arr[2:7:2])"
   ]
  },
  {
   "cell_type": "markdown",
   "metadata": {},
   "source": [
    "**Boolean and fancy indexing**\n",
    "\n",
    "Indexing techniques help us to select and filter elements from a NumPy array. Boolean indexing uses a Boolean expression in the place of indexes (in square brackets) to filter the NumPy array. This indexing returns elements that have a true value for the Boolean expression."
   ]
  },
  {
   "cell_type": "code",
   "execution_count": 8,
   "metadata": {},
   "outputs": [
    {
     "name": "stdout",
     "output_type": "stream",
     "text": [
      "Orignial Array:\n",
      " [21 23 25 27 29 31 33 35 37 39]\n",
      "After Boolean Condition: [31 33 35 37 39]\n"
     ]
    }
   ],
   "source": [
    "arr = np.arange(21,41,2)\n",
    "print(\"Orignial Array:\\n\",arr)\n",
    "# Boolean Indexing\n",
    "print(\"After Boolean Condition:\",arr[arr>30])"
   ]
  },
  {
   "cell_type": "markdown",
   "metadata": {},
   "source": [
    "Fancy indexing is a special type of indexing in which elements of an array are selected by an array of indices. This means we pass the array of indices in brackets. Fancy indexing also supports multi-dimensional arrays. This will help us to easily select and modify a complex multi-dimensional set of arrays."
   ]
  },
  {
   "cell_type": "code",
   "execution_count": 9,
   "metadata": {},
   "outputs": [
    {
     "name": "stdout",
     "output_type": "stream",
     "text": [
      "Orignial Array:\n",
      " [[ 1  2  3  4]\n",
      " [ 5  6  7  8]\n",
      " [ 9 10 11 12]\n",
      " [13 14 15 16]\n",
      " [17 18 19 20]]\n",
      "Selected 2nd and 3rd Row:\n",
      " [[ 5  6  7  8]\n",
      " [ 9 10 11 12]]\n",
      "Selected 3rd and 4th Row:\n",
      " [[ 9 10 11 12]\n",
      " [13 14 15 16]]\n"
     ]
    }
   ],
   "source": [
    "# Create NumPy Array\n",
    "arr = np.arange(1,21).reshape(5,4)\n",
    "print(\"Orignial Array:\\n\",arr)\n",
    "# Selecting 2nd and 3rd row\n",
    "indices = [1,2]\n",
    "print(\"Selected 2nd and 3rd Row:\\n\", arr[indices])\n",
    "# Selecting 3nd and 4th row\n",
    "indices = [2,3]\n",
    "print(\"Selected 3rd and 4th Row:\\n\", arr[indices])"
   ]
  },
  {
   "cell_type": "markdown",
   "metadata": {},
   "source": [
    "La función *where* devuelve una tupla de arrays. El primero indica las filas de los elementos que cumplen la condición, y el segundo las columnas.\n",
    "\n",
    "La función *nonzero* equivale a *np.where(A!=0)*.\n",
    "\n",
    "Las funciones *argmax* y *argmin* indican la posición del mayor y menor elemento, respectivamente."
   ]
  },
  {
   "cell_type": "code",
   "execution_count": 10,
   "metadata": {},
   "outputs": [
    {
     "name": "stdout",
     "output_type": "stream",
     "text": [
      "[[ 0  7  8  3]\n",
      " [ 5  2 11 10]\n",
      " [ 4  6  1  9]] \n",
      "\n",
      "\n",
      "(array([0, 0, 0, 1, 1, 1, 1, 2, 2, 2, 2]), array([1, 2, 3, 0, 1, 2, 3, 0, 1, 2, 3])) \n",
      "\n",
      "\n",
      "(array([0, 0, 1, 1, 2, 2]), array([1, 2, 2, 3, 1, 3])) \n",
      "\n",
      "\n",
      "(array([0, 0, 0, 1, 1, 1, 1, 2, 2, 2, 2]), array([1, 2, 3, 0, 1, 2, 3, 0, 1, 2, 3])) \n",
      "\n",
      "\n",
      "(array([0, 0, 1, 1, 2, 2]), array([1, 2, 2, 3, 1, 3])) \n",
      "\n",
      "\n",
      "(array([0]), array([0])) \n",
      "\n",
      "\n",
      "6 \n",
      "\n",
      "\n",
      "(array([0]), array([0])) \n",
      "\n",
      "\n",
      "[[ 0  7  8  3]\n",
      " [ 5  2 11 10]\n",
      " [ 4  6  1  9]] \n",
      "\n",
      "\n",
      "0 \n",
      "\n",
      "\n"
     ]
    }
   ],
   "source": [
    "A = np.random.permutation(np.r_[0:12]).reshape(3, 4)\n",
    "\n",
    "print(A,\"\\n\\n\")\n",
    "\n",
    "print(np.nonzero(A),\"\\n\\n\")\n",
    "\n",
    "print(np.nonzero(A>5),\"\\n\\n\")\n",
    "\n",
    "print(np.where(A>0),\"\\n\\n\")\n",
    "\n",
    "print(np.where(A>5),\"\\n\\n\")\n",
    "\n",
    "print(np.where(A==A.min()),\"\\n\\n\")\n",
    "\n",
    "print(np.argmax(A),\"\\n\\n\")\n",
    "\n",
    "A[0][0]=0\n",
    "\n",
    "print(np.where(A==A.min()),\"\\n\\n\")\n",
    "\n",
    "print(A,\"\\n\\n\")\n",
    "\n",
    "print(np.argmin(A),\"\\n\\n\")"
   ]
  }
 ],
 "metadata": {
  "kernelspec": {
   "display_name": ".venv",
   "language": "python",
   "name": "python3"
  },
  "language_info": {
   "codemirror_mode": {
    "name": "ipython",
    "version": 3
   },
   "file_extension": ".py",
   "mimetype": "text/x-python",
   "name": "python",
   "nbconvert_exporter": "python",
   "pygments_lexer": "ipython3",
   "version": "3.12.3"
  }
 },
 "nbformat": 4,
 "nbformat_minor": 2
}
