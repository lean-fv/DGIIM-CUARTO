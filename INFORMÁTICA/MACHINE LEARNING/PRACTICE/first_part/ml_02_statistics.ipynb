{
 "cells": [
  {
   "cell_type": "markdown",
   "metadata": {
    "id": "EGoztdj84Lyx"
   },
   "source": [
    "# Statistics"
   ]
  },
  {
   "cell_type": "code",
   "execution_count": 1,
   "metadata": {
    "id": "l60D6uaY0h1g"
   },
   "outputs": [],
   "source": [
    "# Import pandas library\n",
    "import pandas as pd"
   ]
  },
  {
   "cell_type": "code",
   "execution_count": 2,
   "metadata": {
    "colab": {
     "base_uri": "https://localhost:8080/",
     "height": 206
    },
    "id": "Svtl3Rgu3Zg0",
    "outputId": "31d79099-bfdf-4dff-df1f-4d3e5eff3290"
   },
   "outputs": [
    {
     "data": {
      "text/html": [
       "<div>\n",
       "<style scoped>\n",
       "    .dataframe tbody tr th:only-of-type {\n",
       "        vertical-align: middle;\n",
       "    }\n",
       "\n",
       "    .dataframe tbody tr th {\n",
       "        vertical-align: top;\n",
       "    }\n",
       "\n",
       "    .dataframe thead th {\n",
       "        text-align: right;\n",
       "    }\n",
       "</style>\n",
       "<table border=\"1\" class=\"dataframe\">\n",
       "  <thead>\n",
       "    <tr style=\"text-align: right;\">\n",
       "      <th></th>\n",
       "      <th>name</th>\n",
       "      <th>gender</th>\n",
       "      <th>communcation_skill_score</th>\n",
       "      <th>quantitative_skill_score</th>\n",
       "    </tr>\n",
       "  </thead>\n",
       "  <tbody>\n",
       "    <tr>\n",
       "      <th>0</th>\n",
       "      <td>John</td>\n",
       "      <td>M</td>\n",
       "      <td>40</td>\n",
       "      <td>38</td>\n",
       "    </tr>\n",
       "    <tr>\n",
       "      <th>1</th>\n",
       "      <td>Alia</td>\n",
       "      <td>F</td>\n",
       "      <td>45</td>\n",
       "      <td>41</td>\n",
       "    </tr>\n",
       "    <tr>\n",
       "      <th>2</th>\n",
       "      <td>Ananya</td>\n",
       "      <td>F</td>\n",
       "      <td>23</td>\n",
       "      <td>42</td>\n",
       "    </tr>\n",
       "    <tr>\n",
       "      <th>3</th>\n",
       "      <td>Steve</td>\n",
       "      <td>M</td>\n",
       "      <td>39</td>\n",
       "      <td>48</td>\n",
       "    </tr>\n",
       "    <tr>\n",
       "      <th>4</th>\n",
       "      <td>Ben</td>\n",
       "      <td>M</td>\n",
       "      <td>39</td>\n",
       "      <td>32</td>\n",
       "    </tr>\n",
       "  </tbody>\n",
       "</table>\n",
       "</div>"
      ],
      "text/plain": [
       "     name gender  communcation_skill_score  quantitative_skill_score\n",
       "0    John      M                        40                        38\n",
       "1    Alia      F                        45                        41\n",
       "2  Ananya      F                        23                        42\n",
       "3   Steve      M                        39                        48\n",
       "4     Ben      M                        39                        32"
      ]
     },
     "execution_count": 2,
     "metadata": {},
     "output_type": "execute_result"
    }
   ],
   "source": [
    "sample_data = {'name': ['John', 'Alia', 'Ananya', 'Steve', 'Ben'],\n",
    "               'gender': ['M', 'F', 'F', 'M', 'M'],\n",
    "               'communcation_skill_score': [40, 45, 23, 39, 39],\n",
    "               'quantitative_skill_score': [38, 41, 42, 48, 32]}\n",
    "\n",
    "data = pd.DataFrame(sample_data, columns = ['name', 'gender', 'communcation_skill_score', 'quantitative_skill_score'])\n",
    "data.head()"
   ]
  },
  {
   "cell_type": "markdown",
   "metadata": {},
   "source": [
    "### Measuring central tendency"
   ]
  },
  {
   "cell_type": "markdown",
   "metadata": {
    "id": "3spf7swn4STM"
   },
   "source": [
    "**Mean**"
   ]
  },
  {
   "cell_type": "code",
   "execution_count": 3,
   "metadata": {
    "colab": {
     "base_uri": "https://localhost:8080/"
    },
    "id": "EmWbIX3X0w7l",
    "outputId": "e3cecd84-ed17-4714-d0af-7dc5fee5e28f"
   },
   "outputs": [
    {
     "data": {
      "text/plain": [
       "np.float64(37.2)"
      ]
     },
     "execution_count": 3,
     "metadata": {},
     "output_type": "execute_result"
    }
   ],
   "source": [
    "# find mean of communication_skill_score column\n",
    "data['communcation_skill_score'].mean()"
   ]
  },
  {
   "cell_type": "markdown",
   "metadata": {
    "id": "4YQUBHTt4mv1"
   },
   "source": [
    "**Median**"
   ]
  },
  {
   "cell_type": "code",
   "execution_count": 4,
   "metadata": {
    "colab": {
     "base_uri": "https://localhost:8080/"
    },
    "id": "mE5ymEsx42DV",
    "outputId": "e21ceac2-3d05-4b1a-f88e-3992fe5b7f5f"
   },
   "outputs": [
    {
     "data": {
      "text/plain": [
       "np.float64(39.0)"
      ]
     },
     "execution_count": 4,
     "metadata": {},
     "output_type": "execute_result"
    }
   ],
   "source": [
    "# find median of communication_skill_score column\n",
    "data['communcation_skill_score'].median()"
   ]
  },
  {
   "cell_type": "markdown",
   "metadata": {
    "id": "21F3WUhH5Lkz"
   },
   "source": [
    "**Mode**"
   ]
  },
  {
   "cell_type": "code",
   "execution_count": 5,
   "metadata": {
    "colab": {
     "base_uri": "https://localhost:8080/"
    },
    "id": "tHMje4h25QP9",
    "outputId": "fc4bedfd-e235-4632-e6bc-abd0fb76f536"
   },
   "outputs": [
    {
     "data": {
      "text/plain": [
       "np.int64(39)"
      ]
     },
     "execution_count": 5,
     "metadata": {},
     "output_type": "execute_result"
    }
   ],
   "source": [
    "# find mode of communication_skill_score column\n",
    "data['communcation_skill_score'].mode()[0]"
   ]
  },
  {
   "cell_type": "code",
   "execution_count": 6,
   "metadata": {
    "colab": {
     "base_uri": "https://localhost:8080/",
     "height": 115
    },
    "id": "NW2A0lP45X1P",
    "outputId": "9af270d3-017a-41c8-ec62-911a7c1deb21"
   },
   "outputs": [
    {
     "data": {
      "text/plain": [
       "0    M\n",
       "Name: gender, dtype: object"
      ]
     },
     "execution_count": 6,
     "metadata": {},
     "output_type": "execute_result"
    }
   ],
   "source": [
    "data['gender'].mode()"
   ]
  },
  {
   "cell_type": "code",
   "execution_count": 7,
   "metadata": {
    "colab": {
     "base_uri": "https://localhost:8080/",
     "height": 241
    },
    "id": "0rZ6FTen5i0X",
    "outputId": "dffa0f07-bf0b-46ba-dd13-ce7518df7ec2"
   },
   "outputs": [
    {
     "data": {
      "text/plain": [
       "0      Alia\n",
       "1    Ananya\n",
       "2       Ben\n",
       "3      John\n",
       "4     Steve\n",
       "Name: name, dtype: object"
      ]
     },
     "execution_count": 7,
     "metadata": {},
     "output_type": "execute_result"
    }
   ],
   "source": [
    "data['name'].mode()"
   ]
  },
  {
   "cell_type": "markdown",
   "metadata": {
    "id": "wGxMVSLz52kU"
   },
   "source": [
    "### Measuring dispersion"
   ]
  },
  {
   "cell_type": "markdown",
   "metadata": {
    "id": "mPqFdqon7i7g"
   },
   "source": [
    "**Variance**"
   ]
  },
  {
   "cell_type": "code",
   "execution_count": 8,
   "metadata": {
    "colab": {
     "base_uri": "https://localhost:8080/"
    },
    "id": "7Cw9EuAL7ppt",
    "outputId": "1e505e6f-84b2-4ec8-f14b-ac769fd46f65"
   },
   "outputs": [
    {
     "data": {
      "text/plain": [
       "np.float64(69.2)"
      ]
     },
     "execution_count": 8,
     "metadata": {},
     "output_type": "execute_result"
    }
   ],
   "source": [
    "# Variance of communication_skill_score\n",
    "data['communcation_skill_score'].var()"
   ]
  },
  {
   "cell_type": "markdown",
   "metadata": {
    "id": "0O4EQQ2H7uqB"
   },
   "source": [
    "**Standard deviation**"
   ]
  },
  {
   "cell_type": "code",
   "execution_count": 9,
   "metadata": {
    "colab": {
     "base_uri": "https://localhost:8080/"
    },
    "id": "B8WBTXOz70gr",
    "outputId": "16bd6670-6d74-49f7-bb35-5449bea73392"
   },
   "outputs": [
    {
     "data": {
      "text/plain": [
       "np.float64(8.318653737234168)"
      ]
     },
     "execution_count": 9,
     "metadata": {},
     "output_type": "execute_result"
    }
   ],
   "source": [
    "# Standard deviation of communication_skill_score\n",
    "data['communcation_skill_score'].std()"
   ]
  },
  {
   "cell_type": "markdown",
   "metadata": {
    "id": "IUObr3KQ6urr"
   },
   "source": [
    "**Range**"
   ]
  },
  {
   "cell_type": "code",
   "execution_count": 10,
   "metadata": {
    "colab": {
     "base_uri": "https://localhost:8080/"
    },
    "id": "1-h0p9AA6pOg",
    "outputId": "7b32769a-3dff-425b-b454-ded50a996896"
   },
   "outputs": [
    {
     "name": "stdout",
     "output_type": "stream",
     "text": [
      "22\n"
     ]
    }
   ],
   "source": [
    "column_range=data['communcation_skill_score'].max()-data['communcation_skill_score'].min()\n",
    "print(column_range)"
   ]
  },
  {
   "cell_type": "markdown",
   "metadata": {
    "id": "aC_rfL1R7GnD"
   },
   "source": [
    "**IQR** is the difference between the third and first quartiles. It is easy to\n",
    "compute and easy to understand. Its unit is the same as the unit of observations.\n",
    "It measures the middle 50% in the observation. It represents the range where\n",
    "most of the observation lies. IQR is also known as midspread or middle 50%, or\n",
    "H-spread."
   ]
  },
  {
   "cell_type": "code",
   "execution_count": 11,
   "metadata": {
    "colab": {
     "base_uri": "https://localhost:8080/"
    },
    "id": "kizQNct47XWV",
    "outputId": "e29345c9-838b-4d9a-b697-358794f58278"
   },
   "outputs": [
    {
     "data": {
      "text/plain": [
       "np.float64(39.0)"
      ]
     },
     "execution_count": 11,
     "metadata": {},
     "output_type": "execute_result"
    }
   ],
   "source": [
    "# First Quartile\n",
    "q1 = data['communcation_skill_score'].quantile(.25)\n",
    "q1"
   ]
  },
  {
   "cell_type": "code",
   "execution_count": 12,
   "metadata": {
    "colab": {
     "base_uri": "https://localhost:8080/"
    },
    "id": "1o5E4gTF7a8j",
    "outputId": "c82fb889-e1f4-4235-c45d-e2977e899532"
   },
   "outputs": [
    {
     "data": {
      "text/plain": [
       "np.float64(40.0)"
      ]
     },
     "execution_count": 12,
     "metadata": {},
     "output_type": "execute_result"
    }
   ],
   "source": [
    "# Third Quartile\n",
    "q3 = data['communcation_skill_score'].quantile(.75)\n",
    "q3"
   ]
  },
  {
   "cell_type": "code",
   "execution_count": 13,
   "metadata": {
    "colab": {
     "base_uri": "https://localhost:8080/"
    },
    "id": "mhoENCeU7MlW",
    "outputId": "478d28ba-6d42-4f8e-89ef-e7bb03f3d692"
   },
   "outputs": [
    {
     "name": "stdout",
     "output_type": "stream",
     "text": [
      "1.0\n"
     ]
    }
   ],
   "source": [
    "# Inter Quartile Ratio\n",
    "iqr=q3-q1\n",
    "print(iqr)"
   ]
  },
  {
   "cell_type": "markdown",
   "metadata": {
    "id": "SFNRbzia8XWa"
   },
   "source": [
    "The function **describe()**  -  to get all the summary statistics in a\n",
    "single command. The describe() function returns the count, mean, standard\n",
    "deviation, first quartile, median, third quartile, and minimum and maximum\n",
    "values for each numeric column in the DataFrame."
   ]
  },
  {
   "cell_type": "code",
   "execution_count": 14,
   "metadata": {
    "colab": {
     "base_uri": "https://localhost:8080/",
     "height": 300
    },
    "id": "EFM0HGP98nE_",
    "outputId": "3d7cd223-a136-4c43-f4fa-972ad074c633"
   },
   "outputs": [
    {
     "data": {
      "text/html": [
       "<div>\n",
       "<style scoped>\n",
       "    .dataframe tbody tr th:only-of-type {\n",
       "        vertical-align: middle;\n",
       "    }\n",
       "\n",
       "    .dataframe tbody tr th {\n",
       "        vertical-align: top;\n",
       "    }\n",
       "\n",
       "    .dataframe thead th {\n",
       "        text-align: right;\n",
       "    }\n",
       "</style>\n",
       "<table border=\"1\" class=\"dataframe\">\n",
       "  <thead>\n",
       "    <tr style=\"text-align: right;\">\n",
       "      <th></th>\n",
       "      <th>communcation_skill_score</th>\n",
       "      <th>quantitative_skill_score</th>\n",
       "    </tr>\n",
       "  </thead>\n",
       "  <tbody>\n",
       "    <tr>\n",
       "      <th>count</th>\n",
       "      <td>5.000000</td>\n",
       "      <td>5.000000</td>\n",
       "    </tr>\n",
       "    <tr>\n",
       "      <th>mean</th>\n",
       "      <td>37.200000</td>\n",
       "      <td>40.200000</td>\n",
       "    </tr>\n",
       "    <tr>\n",
       "      <th>std</th>\n",
       "      <td>8.318654</td>\n",
       "      <td>5.848077</td>\n",
       "    </tr>\n",
       "    <tr>\n",
       "      <th>min</th>\n",
       "      <td>23.000000</td>\n",
       "      <td>32.000000</td>\n",
       "    </tr>\n",
       "    <tr>\n",
       "      <th>25%</th>\n",
       "      <td>39.000000</td>\n",
       "      <td>38.000000</td>\n",
       "    </tr>\n",
       "    <tr>\n",
       "      <th>50%</th>\n",
       "      <td>39.000000</td>\n",
       "      <td>41.000000</td>\n",
       "    </tr>\n",
       "    <tr>\n",
       "      <th>75%</th>\n",
       "      <td>40.000000</td>\n",
       "      <td>42.000000</td>\n",
       "    </tr>\n",
       "    <tr>\n",
       "      <th>max</th>\n",
       "      <td>45.000000</td>\n",
       "      <td>48.000000</td>\n",
       "    </tr>\n",
       "  </tbody>\n",
       "</table>\n",
       "</div>"
      ],
      "text/plain": [
       "       communcation_skill_score  quantitative_skill_score\n",
       "count                  5.000000                  5.000000\n",
       "mean                  37.200000                 40.200000\n",
       "std                    8.318654                  5.848077\n",
       "min                   23.000000                 32.000000\n",
       "25%                   39.000000                 38.000000\n",
       "50%                   39.000000                 41.000000\n",
       "75%                   40.000000                 42.000000\n",
       "max                   45.000000                 48.000000"
      ]
     },
     "execution_count": 14,
     "metadata": {},
     "output_type": "execute_result"
    }
   ],
   "source": [
    "data.describe()"
   ]
  },
  {
   "cell_type": "markdown",
   "metadata": {
    "id": "KqQesX8a_Bbk"
   },
   "source": [
    "**Skewness**"
   ]
  },
  {
   "cell_type": "code",
   "execution_count": 15,
   "metadata": {
    "colab": {
     "base_uri": "https://localhost:8080/"
    },
    "id": "7twHpNRr_GSL",
    "outputId": "a260aa0a-6e37-409c-ff03-834ce1567361"
   },
   "outputs": [
    {
     "data": {
      "text/plain": [
       "np.float64(-1.704679180800373)"
      ]
     },
     "execution_count": 15,
     "metadata": {},
     "output_type": "execute_result"
    }
   ],
   "source": [
    "# skewness of communication_skill_score column\n",
    "data['communcation_skill_score'].skew()"
   ]
  },
  {
   "cell_type": "markdown",
   "metadata": {
    "id": "dLUd6iX2_lde"
   },
   "source": [
    "**Kurtosis**"
   ]
  },
  {
   "cell_type": "code",
   "execution_count": 16,
   "metadata": {
    "colab": {
     "base_uri": "https://localhost:8080/"
    },
    "id": "NtSPhYob_m-p",
    "outputId": "44e403ec-c23c-41cd-9c26-bdd584409b8e"
   },
   "outputs": [
    {
     "data": {
      "text/plain": [
       "np.float64(3.6010641852384015)"
      ]
     },
     "execution_count": 16,
     "metadata": {},
     "output_type": "execute_result"
    }
   ],
   "source": [
    "# kurtosis of communication_skill_score column\n",
    "data['communcation_skill_score'].kurtosis()"
   ]
  },
  {
   "cell_type": "markdown",
   "metadata": {
    "id": "D_-CjUQvCPtz"
   },
   "source": [
    "**Covariance**"
   ]
  },
  {
   "cell_type": "code",
   "execution_count": 17,
   "metadata": {
    "colab": {
     "base_uri": "https://localhost:8080/",
     "height": 206
    },
    "id": "cG6Vo_LECRlE",
    "outputId": "54af9465-2b4d-4c99-883a-2b9940694e72"
   },
   "outputs": [
    {
     "data": {
      "text/html": [
       "<div>\n",
       "<style scoped>\n",
       "    .dataframe tbody tr th:only-of-type {\n",
       "        vertical-align: middle;\n",
       "    }\n",
       "\n",
       "    .dataframe tbody tr th {\n",
       "        vertical-align: top;\n",
       "    }\n",
       "\n",
       "    .dataframe thead th {\n",
       "        text-align: right;\n",
       "    }\n",
       "</style>\n",
       "<table border=\"1\" class=\"dataframe\">\n",
       "  <thead>\n",
       "    <tr style=\"text-align: right;\">\n",
       "      <th></th>\n",
       "      <th>communcation_skill_score</th>\n",
       "      <th>quantitative_skill_score</th>\n",
       "    </tr>\n",
       "  </thead>\n",
       "  <tbody>\n",
       "    <tr>\n",
       "      <th>0</th>\n",
       "      <td>40</td>\n",
       "      <td>38</td>\n",
       "    </tr>\n",
       "    <tr>\n",
       "      <th>1</th>\n",
       "      <td>45</td>\n",
       "      <td>41</td>\n",
       "    </tr>\n",
       "    <tr>\n",
       "      <th>2</th>\n",
       "      <td>23</td>\n",
       "      <td>42</td>\n",
       "    </tr>\n",
       "    <tr>\n",
       "      <th>3</th>\n",
       "      <td>39</td>\n",
       "      <td>48</td>\n",
       "    </tr>\n",
       "    <tr>\n",
       "      <th>4</th>\n",
       "      <td>39</td>\n",
       "      <td>32</td>\n",
       "    </tr>\n",
       "  </tbody>\n",
       "</table>\n",
       "</div>"
      ],
      "text/plain": [
       "   communcation_skill_score  quantitative_skill_score\n",
       "0                        40                        38\n",
       "1                        45                        41\n",
       "2                        23                        42\n",
       "3                        39                        48\n",
       "4                        39                        32"
      ]
     },
     "execution_count": 17,
     "metadata": {},
     "output_type": "execute_result"
    }
   ],
   "source": [
    "# Covariance between columns of dataframe\n",
    "d=data[['communcation_skill_score','quantitative_skill_score']]\n",
    "d"
   ]
  },
  {
   "cell_type": "code",
   "execution_count": 18,
   "metadata": {
    "colab": {
     "base_uri": "https://localhost:8080/",
     "height": 112
    },
    "id": "Jn5GVnZbEOP4",
    "outputId": "ee10b899-3ede-4aae-f06e-ba5d0a738101"
   },
   "outputs": [
    {
     "data": {
      "text/html": [
       "<div>\n",
       "<style scoped>\n",
       "    .dataframe tbody tr th:only-of-type {\n",
       "        vertical-align: middle;\n",
       "    }\n",
       "\n",
       "    .dataframe tbody tr th {\n",
       "        vertical-align: top;\n",
       "    }\n",
       "\n",
       "    .dataframe thead th {\n",
       "        text-align: right;\n",
       "    }\n",
       "</style>\n",
       "<table border=\"1\" class=\"dataframe\">\n",
       "  <thead>\n",
       "    <tr style=\"text-align: right;\">\n",
       "      <th></th>\n",
       "      <th>communcation_skill_score</th>\n",
       "      <th>quantitative_skill_score</th>\n",
       "    </tr>\n",
       "  </thead>\n",
       "  <tbody>\n",
       "    <tr>\n",
       "      <th>communcation_skill_score</th>\n",
       "      <td>69.20</td>\n",
       "      <td>-6.55</td>\n",
       "    </tr>\n",
       "    <tr>\n",
       "      <th>quantitative_skill_score</th>\n",
       "      <td>-6.55</td>\n",
       "      <td>34.20</td>\n",
       "    </tr>\n",
       "  </tbody>\n",
       "</table>\n",
       "</div>"
      ],
      "text/plain": [
       "                          communcation_skill_score  quantitative_skill_score\n",
       "communcation_skill_score                     69.20                     -6.55\n",
       "quantitative_skill_score                     -6.55                     34.20"
      ]
     },
     "execution_count": 18,
     "metadata": {},
     "output_type": "execute_result"
    }
   ],
   "source": [
    "d.cov()"
   ]
  },
  {
   "cell_type": "markdown",
   "metadata": {
    "id": "tsTezU_mC-dG"
   },
   "source": [
    "**Correlation**"
   ]
  },
  {
   "cell_type": "code",
   "execution_count": 19,
   "metadata": {
    "colab": {
     "base_uri": "https://localhost:8080/",
     "height": 112
    },
    "id": "dzvnC7kIC_0m",
    "outputId": "65dbf3e1-c44d-4ee1-b4af-b16eb714c9c5"
   },
   "outputs": [
    {
     "data": {
      "text/html": [
       "<div>\n",
       "<style scoped>\n",
       "    .dataframe tbody tr th:only-of-type {\n",
       "        vertical-align: middle;\n",
       "    }\n",
       "\n",
       "    .dataframe tbody tr th {\n",
       "        vertical-align: top;\n",
       "    }\n",
       "\n",
       "    .dataframe thead th {\n",
       "        text-align: right;\n",
       "    }\n",
       "</style>\n",
       "<table border=\"1\" class=\"dataframe\">\n",
       "  <thead>\n",
       "    <tr style=\"text-align: right;\">\n",
       "      <th></th>\n",
       "      <th>communcation_skill_score</th>\n",
       "      <th>quantitative_skill_score</th>\n",
       "    </tr>\n",
       "  </thead>\n",
       "  <tbody>\n",
       "    <tr>\n",
       "      <th>communcation_skill_score</th>\n",
       "      <td>1.00000</td>\n",
       "      <td>-0.13464</td>\n",
       "    </tr>\n",
       "    <tr>\n",
       "      <th>quantitative_skill_score</th>\n",
       "      <td>-0.13464</td>\n",
       "      <td>1.00000</td>\n",
       "    </tr>\n",
       "  </tbody>\n",
       "</table>\n",
       "</div>"
      ],
      "text/plain": [
       "                          communcation_skill_score  quantitative_skill_score\n",
       "communcation_skill_score                   1.00000                  -0.13464\n",
       "quantitative_skill_score                  -0.13464                   1.00000"
      ]
     },
     "execution_count": 19,
     "metadata": {},
     "output_type": "execute_result"
    }
   ],
   "source": [
    "# Correlation between columns of dataframe\n",
    "d.corr(method ='pearson')"
   ]
  }
 ],
 "metadata": {
  "colab": {
   "provenance": []
  },
  "kernelspec": {
   "display_name": ".venv",
   "language": "python",
   "name": "python3"
  },
  "language_info": {
   "codemirror_mode": {
    "name": "ipython",
    "version": 3
   },
   "file_extension": ".py",
   "mimetype": "text/x-python",
   "name": "python",
   "nbconvert_exporter": "python",
   "pygments_lexer": "ipython3",
   "version": "3.12.3"
  }
 },
 "nbformat": 4,
 "nbformat_minor": 0
}
